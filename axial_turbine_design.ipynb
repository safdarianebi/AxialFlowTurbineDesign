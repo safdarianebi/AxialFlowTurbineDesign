{
 "cells": [
  {
   "cell_type": "code",
   "execution_count": 1,
   "id": "20e72800-8652-4549-bc05-110b411632d1",
   "metadata": {},
   "outputs": [],
   "source": [
    "import math\n",
    "import matplotlib.pyplot as plt\n",
    "import matplotlib.patches as patches\n",
    "import pandas as pd\n",
    "import numpy as np\n",
    "import matplotlib.pyplot as plt\n",
    "from matplotlib import pyplot as plt\n",
    "from ipynb.fs.full.air_thermodynamic_properties import properties\n",
    "from ipynb.fs.full.functions import i_sr, di_s, K_inc, K_M, K_p, K_Re, Y_p1, Y_p2\n",
    "from ipynb.fs.full.functions import Y_p, Y_s, Y_TE, Y_sh, Y_EX, Y_CL, Y_LW\n",
    "from ipynb.fs.full.functions import dh0_leak, dh0_DF, dh0_adm, dh0_gap\n",
    "from ipynb.fs.full.turbine_design_functions import ND_Parameters, Velocity_Triangles, NOB\n",
    "from ipynb.fs.full.turbine_design_functions import Section1, radius_section2, C_theta_2, Reaction, C_theta_4\n",
    "from ipynb.fs.full.turbine_design_functions import radius_section4, Specifications2, Specifications4"
   ]
  },
  {
   "cell_type": "markdown",
   "id": "9a3f472e-b174-46bd-aff7-e01584030c70",
   "metadata": {},
   "source": [
    "# DATA"
   ]
  },
  {
   "cell_type": "code",
   "execution_count": 2,
   "id": "d49e3008-2ce8-487b-8d25-c703b0f4e5c3",
   "metadata": {},
   "outputs": [],
   "source": [
    "P01 = 2                           #bar\n",
    "T01 = 900                         #kelvin\n",
    "m_dot = 15                        #kg/sec\n",
    "P04 = 1                           #bar\n",
    "N_engine = 6000                   #RPM\n",
    "R_u = 8.314                       #kj/kmol-k\n",
    "R = R_u/28.9647                   #kj/kg-k"
   ]
  },
  {
   "cell_type": "code",
   "execution_count": 3,
   "id": "66cd8026-12b8-4d53-acb9-c48a1e712278",
   "metadata": {},
   "outputs": [],
   "source": [
    "omega = 2*math.pi*N_engine/60   #rad/sec"
   ]
  },
  {
   "cell_type": "markdown",
   "id": "f8a8c9af-6867-420e-a1ef-442ca2981387",
   "metadata": {},
   "source": [
    "# r_c"
   ]
  },
  {
   "cell_type": "code",
   "execution_count": 4,
   "id": "b821e0a2-d0e8-4e9d-8e12-32b8e7e52b1d",
   "metadata": {},
   "outputs": [],
   "source": [
    "U_tip_min = 300                  #meter/sec\n",
    "U_tip_max = 350                  #meter/sec"
   ]
  },
  {
   "cell_type": "code",
   "execution_count": 5,
   "id": "b8a36926-ba33-4eb0-abac-a7a5ffdaad12",
   "metadata": {},
   "outputs": [],
   "source": [
    "r_c = 0.5*(U_tip_min/omega)      #meter"
   ]
  },
  {
   "cell_type": "code",
   "execution_count": 6,
   "id": "3af895b4-9733-48ec-9fd2-60242d7098d0",
   "metadata": {},
   "outputs": [
    {
     "data": {
      "text/plain": [
       "0.238732414637843"
      ]
     },
     "execution_count": 6,
     "metadata": {},
     "output_type": "execute_result"
    }
   ],
   "source": [
    "r_c"
   ]
  },
  {
   "cell_type": "markdown",
   "id": "84204f61-6a6f-414c-b337-ce2944ebf57b",
   "metadata": {},
   "source": [
    "# Non-Dimensional Parameters"
   ]
  },
  {
   "cell_type": "code",
   "execution_count": 7,
   "id": "77494a43-285f-4845-b13f-ca6239c58f4f",
   "metadata": {},
   "outputs": [],
   "source": [
    "R_c = 0.5\n",
    "delta = 0.004         #meter"
   ]
  },
  {
   "cell_type": "markdown",
   "id": "97c108fa-aef9-4179-b3d1-dfe65bd09fb6",
   "metadata": {},
   "source": [
    "We can choose an arbitrary efficiency and by that We can extract phi_c and psi_c through related charts:"
   ]
  },
  {
   "cell_type": "code",
   "execution_count": 8,
   "id": "f854f67a-42ec-401d-8004-9408de5e4b8a",
   "metadata": {},
   "outputs": [],
   "source": [
    "psi_c = (1.3+1.6)/2\n",
    "phi_c = (0.8+1)/2\n",
    "etta_target = 0.92"
   ]
  },
  {
   "cell_type": "code",
   "execution_count": 9,
   "id": "97ee2291-c6db-40b6-8540-a81a2e2d96f1",
   "metadata": {},
   "outputs": [
    {
     "data": {
      "text/plain": [
       "(1.4500000000000002, 0.9)"
      ]
     },
     "execution_count": 9,
     "metadata": {},
     "output_type": "execute_result"
    }
   ],
   "source": [
    "psi_c, phi_c"
   ]
  },
  {
   "cell_type": "code",
   "execution_count": 10,
   "id": "bc599052-e678-4695-abd5-2e027ce0da48",
   "metadata": {},
   "outputs": [],
   "source": [
    "dic = ND_Parameters(psi_c, phi_c, delta, R_c, r_c)"
   ]
  },
  {
   "cell_type": "code",
   "execution_count": 11,
   "id": "ce124457-6978-4b44-be13-eb763132224e",
   "metadata": {},
   "outputs": [
    {
     "data": {
      "text/plain": [
       "{'psi_opt': 1.1896652602685869,\n",
       " 'phi_opt': 0.7375,\n",
       " 'etta_opt': 0.9297453250000001,\n",
       " 'etta_o': 0.9246291140625,\n",
       " 'etta': 0.914614075929831}"
      ]
     },
     "execution_count": 11,
     "metadata": {},
     "output_type": "execute_result"
    }
   ],
   "source": [
    "dic"
   ]
  },
  {
   "cell_type": "code",
   "execution_count": 12,
   "id": "6f1a95cc-6061-4710-b0a1-d59bb8f16f90",
   "metadata": {},
   "outputs": [],
   "source": [
    "etta_o = dic['etta_o']\n",
    "etta = dic['etta']"
   ]
  },
  {
   "cell_type": "code",
   "execution_count": 13,
   "id": "48791f98-13a2-4f54-8028-e26500309f5f",
   "metadata": {},
   "outputs": [
    {
     "data": {
      "text/plain": [
       "(0.914614075929831, 0.9246291140625)"
      ]
     },
     "execution_count": 13,
     "metadata": {},
     "output_type": "execute_result"
    }
   ],
   "source": [
    "etta, etta_o"
   ]
  },
  {
   "cell_type": "code",
   "execution_count": 14,
   "id": "a9146f0d-400d-4dd0-96c4-eb702feaa293",
   "metadata": {},
   "outputs": [
    {
     "data": {
      "text/plain": [
       "True"
      ]
     },
     "execution_count": 14,
     "metadata": {},
     "output_type": "execute_result"
    }
   ],
   "source": [
    "(abs(etta_target-etta)/etta_target) < 0.01 "
   ]
  },
  {
   "cell_type": "markdown",
   "id": "d327e22d-8b29-424c-ab72-c8f8ce358ebd",
   "metadata": {},
   "source": [
    "This is showing that phi_c and psi_c are relatively appropriate and if We had any problem in next steps we can change them but now We can say, they are good"
   ]
  },
  {
   "cell_type": "markdown",
   "id": "dd37af39-24db-45fd-9e4c-0c67ef90da37",
   "metadata": {},
   "source": [
    "# Velocity Triangles"
   ]
  },
  {
   "cell_type": "code",
   "execution_count": 15,
   "id": "3f6947fa-a182-48ab-9de7-ae0978f06679",
   "metadata": {},
   "outputs": [],
   "source": [
    "U_c = r_c*omega\n",
    "alpha1_c = 90"
   ]
  },
  {
   "cell_type": "code",
   "execution_count": 16,
   "id": "adb3d577-197f-4dd4-a7ef-3f93176893ef",
   "metadata": {},
   "outputs": [],
   "source": [
    "VTriangles = Velocity_Triangles(U_c, phi_c, psi_c, R_c, alpha1_c)"
   ]
  },
  {
   "cell_type": "code",
   "execution_count": 17,
   "id": "1449d759-d0e1-4f35-b6a6-70caf6dcd7ba",
   "metadata": {},
   "outputs": [
    {
     "data": {
      "text/html": [
       "<div>\n",
       "<style scoped>\n",
       "    .dataframe tbody tr th:only-of-type {\n",
       "        vertical-align: middle;\n",
       "    }\n",
       "\n",
       "    .dataframe tbody tr th {\n",
       "        vertical-align: top;\n",
       "    }\n",
       "\n",
       "    .dataframe thead th {\n",
       "        text-align: right;\n",
       "    }\n",
       "</style>\n",
       "<table border=\"1\" class=\"dataframe\">\n",
       "  <thead>\n",
       "    <tr style=\"text-align: right;\">\n",
       "      <th></th>\n",
       "      <th>C_theta[meter/sec]</th>\n",
       "      <th>Cm[meter/sec]</th>\n",
       "      <th>C[meter/sec]</th>\n",
       "      <th>alpha[degree]</th>\n",
       "      <th>W_theta[meter/sec]</th>\n",
       "      <th>W[meter/sec]</th>\n",
       "      <th>Beta[degree]</th>\n",
       "    </tr>\n",
       "  </thead>\n",
       "  <tbody>\n",
       "    <tr>\n",
       "      <th>Point 1</th>\n",
       "      <td>0.0</td>\n",
       "      <td>135.0</td>\n",
       "      <td>135.0</td>\n",
       "      <td>90</td>\n",
       "      <td>-</td>\n",
       "      <td>-</td>\n",
       "      <td>-</td>\n",
       "    </tr>\n",
       "    <tr>\n",
       "      <th>Point 2</th>\n",
       "      <td>183.75</td>\n",
       "      <td>135.0</td>\n",
       "      <td>228.011102</td>\n",
       "      <td>36.304497</td>\n",
       "      <td>33.75</td>\n",
       "      <td>139.154815</td>\n",
       "      <td>75.963757</td>\n",
       "    </tr>\n",
       "    <tr>\n",
       "      <th>Point 3</th>\n",
       "      <td>183.75</td>\n",
       "      <td>135.0</td>\n",
       "      <td>228.011102</td>\n",
       "      <td>36.304497</td>\n",
       "      <td>33.75</td>\n",
       "      <td>139.154815</td>\n",
       "      <td>75.963757</td>\n",
       "    </tr>\n",
       "    <tr>\n",
       "      <th>Point 4</th>\n",
       "      <td>-33.75</td>\n",
       "      <td>135.0</td>\n",
       "      <td>139.154815</td>\n",
       "      <td>-75.963757</td>\n",
       "      <td>-183.75</td>\n",
       "      <td>228.011102</td>\n",
       "      <td>-36.304497</td>\n",
       "    </tr>\n",
       "  </tbody>\n",
       "</table>\n",
       "</div>"
      ],
      "text/plain": [
       "        C_theta[meter/sec] Cm[meter/sec] C[meter/sec] alpha[degree]  \\\n",
       "Point 1                0.0         135.0        135.0            90   \n",
       "Point 2             183.75         135.0   228.011102     36.304497   \n",
       "Point 3             183.75         135.0   228.011102     36.304497   \n",
       "Point 4             -33.75         135.0   139.154815    -75.963757   \n",
       "\n",
       "        W_theta[meter/sec] W[meter/sec] Beta[degree]  \n",
       "Point 1                  -            -            -  \n",
       "Point 2              33.75   139.154815    75.963757  \n",
       "Point 3              33.75   139.154815    75.963757  \n",
       "Point 4            -183.75   228.011102   -36.304497  "
      ]
     },
     "execution_count": 17,
     "metadata": {},
     "output_type": "execute_result"
    }
   ],
   "source": [
    "VTriangles"
   ]
  },
  {
   "cell_type": "code",
   "execution_count": 18,
   "id": "cd2184c9-2b6d-4957-92e1-7da756f17c36",
   "metadata": {},
   "outputs": [],
   "source": [
    "C1_c = VTriangles['C[meter/sec]'][0]\n",
    "C2_c = VTriangles['C[meter/sec]'][1]\n",
    "C3_c = VTriangles['C[meter/sec]'][2]\n",
    "C4_c = VTriangles['C[meter/sec]'][3]"
   ]
  },
  {
   "cell_type": "code",
   "execution_count": 19,
   "id": "e7d5ad01-506d-4f92-ad4d-c001ef07abc7",
   "metadata": {},
   "outputs": [],
   "source": [
    "C_theta2_c = VTriangles['C_theta[meter/sec]'][1]\n",
    "C_theta3_c = VTriangles['C_theta[meter/sec]'][2]\n",
    "C_theta4_c = VTriangles['C_theta[meter/sec]'][3]"
   ]
  },
  {
   "cell_type": "code",
   "execution_count": 20,
   "id": "c763f91e-1365-428d-8fd8-5d4ee5c53c93",
   "metadata": {},
   "outputs": [],
   "source": [
    "Cm1_c = VTriangles['Cm[meter/sec]'][0]\n",
    "Cm2_c = VTriangles['Cm[meter/sec]'][1]\n",
    "Cm3_c = VTriangles['Cm[meter/sec]'][2]\n",
    "Cm4_c = VTriangles['Cm[meter/sec]'][3]"
   ]
  },
  {
   "cell_type": "code",
   "execution_count": 21,
   "id": "03389c1e-9976-428f-a8a6-eb2569572a55",
   "metadata": {},
   "outputs": [],
   "source": [
    "W3_c = VTriangles['W[meter/sec]'][2]\n",
    "W4_c = VTriangles['W[meter/sec]'][3]"
   ]
  },
  {
   "cell_type": "code",
   "execution_count": 22,
   "id": "8192e82d-26a8-4363-b4c2-ce74449d9a5e",
   "metadata": {},
   "outputs": [],
   "source": [
    "alpha1_c = VTriangles['alpha[degree]'][0]\n",
    "alpha2_c = VTriangles['alpha[degree]'][1]\n",
    "alpha4_c = VTriangles['alpha[degree]'][3]"
   ]
  },
  {
   "cell_type": "code",
   "execution_count": 23,
   "id": "5696b242-0c13-4fa1-bc1e-4b664e0c7ac1",
   "metadata": {},
   "outputs": [],
   "source": [
    "Beta1_c = VTriangles['Beta[degree]'][2]\n",
    "Beta2_c = VTriangles['Beta[degree]'][3]"
   ]
  },
  {
   "cell_type": "markdown",
   "id": "4ea7f29b-7474-40dd-ba1c-5c7710b82c04",
   "metadata": {},
   "source": [
    "# Thermodynamic Properties at r_c"
   ]
  },
  {
   "cell_type": "markdown",
   "id": "19f288d6-84fe-4480-ac10-78177e24f154",
   "metadata": {},
   "source": [
    "## Point 01"
   ]
  },
  {
   "cell_type": "code",
   "execution_count": 24,
   "id": "33567be3-db99-44e3-b796-efef0b1881fb",
   "metadata": {},
   "outputs": [],
   "source": [
    "Properties01 = properties({'P' : P01, 'T' : T01})"
   ]
  },
  {
   "cell_type": "code",
   "execution_count": 25,
   "id": "1f1c0bb2-c464-42ee-9189-02f1c2dfb31b",
   "metadata": {},
   "outputs": [
    {
     "data": {
      "text/plain": [
       "{'P[bar]': 2,\n",
       " 'T[k]': 900,\n",
       " 'C_p[kj/kg-k]': 1.1212168713986332,\n",
       " 'h[kj/kg]': 937.5648948823913,\n",
       " 's[kj/kg-k]': 6.851401920512807}"
      ]
     },
     "execution_count": 25,
     "metadata": {},
     "output_type": "execute_result"
    }
   ],
   "source": [
    "Properties01"
   ]
  },
  {
   "cell_type": "code",
   "execution_count": 26,
   "id": "17bc297c-5eab-4a4e-ad5a-198fa95bccdb",
   "metadata": {},
   "outputs": [],
   "source": [
    "h01   = Properties01['h[kj/kg]']\n",
    "h02_c = h01\n",
    "h03   = h01\n",
    "h04   = h01-(psi_c*U_c**2)/1000\n",
    "h04ss = h01-(h01-h04)/etta_o\n",
    "s1    = Properties01['s[kj/kg-k]']\n",
    "s04ss = s1\n",
    "s04id = s1"
   ]
  },
  {
   "cell_type": "markdown",
   "id": "9b30b7a6-0f1e-4d7b-a36d-896cef97129f",
   "metadata": {},
   "source": [
    "## Point 04ss"
   ]
  },
  {
   "cell_type": "code",
   "execution_count": 27,
   "id": "9380320a-d378-481e-bfab-df5d8c852711",
   "metadata": {},
   "outputs": [],
   "source": [
    "Properties04ss = properties({'h' : h04ss, 's' : s04ss})"
   ]
  },
  {
   "cell_type": "code",
   "execution_count": 28,
   "id": "15e90e49-22d3-474e-95c2-bbca04b7be0b",
   "metadata": {},
   "outputs": [
    {
     "data": {
      "text/plain": [
       "{'P[bar]': 1.7404165402678267,\n",
       " 'T[k]': 868.4357262103506,\n",
       " 'C_p[kj/kg-k]': 1.1142750704985729,\n",
       " 'h[kj/kg]': 902.2804770506219,\n",
       " 's[kj/kg-k]': 6.851401920512807}"
      ]
     },
     "execution_count": 28,
     "metadata": {},
     "output_type": "execute_result"
    }
   ],
   "source": [
    "Properties04ss"
   ]
  },
  {
   "cell_type": "code",
   "execution_count": 29,
   "id": "0f6885c4-2f06-41dc-bcaa-4740e77756d4",
   "metadata": {},
   "outputs": [],
   "source": [
    "P04 = Properties04ss['P[bar]']"
   ]
  },
  {
   "cell_type": "markdown",
   "id": "fc95f8a8-ddd5-4ffa-bc17-07a81567d3c2",
   "metadata": {},
   "source": [
    "## Point 04"
   ]
  },
  {
   "cell_type": "code",
   "execution_count": 30,
   "id": "5bbb839a-690b-4ead-b693-1070e5cc826f",
   "metadata": {},
   "outputs": [],
   "source": [
    "Properties04 = properties({'h' : h04, 'P' : P04})"
   ]
  },
  {
   "cell_type": "code",
   "execution_count": 31,
   "id": "cb0c34c3-9c7b-4a06-8fcb-080936f0e7db",
   "metadata": {},
   "outputs": [
    {
     "data": {
      "text/plain": [
       "{'P[bar]': 1.7404165402678267,\n",
       " 'T[k]': 870.8146911519199,\n",
       " 'C_p[kj/kg-k]': 1.1148076900465038,\n",
       " 'h[kj/kg]': 904.9398948823913,\n",
       " 's[kj/kg-k]': 6.854450885163198}"
      ]
     },
     "execution_count": 31,
     "metadata": {},
     "output_type": "execute_result"
    }
   ],
   "source": [
    "Properties04"
   ]
  },
  {
   "cell_type": "code",
   "execution_count": 32,
   "id": "ab7c3637-325a-4b2e-92cd-e2741fcf36cf",
   "metadata": {},
   "outputs": [],
   "source": [
    "P04 = Properties04['P[bar]']\n",
    "T04 = Properties04['T[k]']\n",
    "s4 = Properties04['s[kj/kg-k]']\n",
    "h04_c = Properties04['h[kj/kg]']\n",
    "h04id = h04"
   ]
  },
  {
   "cell_type": "markdown",
   "id": "4d2458ab-f46a-4582-a8f6-9cfcc49bfbd2",
   "metadata": {},
   "source": [
    "## Point 04id"
   ]
  },
  {
   "cell_type": "code",
   "execution_count": 33,
   "id": "fc72f154-92f3-4947-9e81-60edef842c5d",
   "metadata": {},
   "outputs": [],
   "source": [
    "Properties04id = properties({'h' : h04id, 's' : s04id})"
   ]
  },
  {
   "cell_type": "code",
   "execution_count": 34,
   "id": "33104446-327f-48a5-a3d2-540dabc05339",
   "metadata": {},
   "outputs": [
    {
     "data": {
      "text/plain": [
       "{'P[bar]': 1.7590019959014216,\n",
       " 'T[k]': 870.8146911519199,\n",
       " 'C_p[kj/kg-k]': 1.1148076900465038,\n",
       " 'h[kj/kg]': 904.9398948823913,\n",
       " 's[kj/kg-k]': 6.851401920512807}"
      ]
     },
     "execution_count": 34,
     "metadata": {},
     "output_type": "execute_result"
    }
   ],
   "source": [
    "Properties04id"
   ]
  },
  {
   "cell_type": "code",
   "execution_count": 35,
   "id": "cd952bc6-bdf6-4964-b838-34658475cd37",
   "metadata": {},
   "outputs": [],
   "source": [
    "P04id = Properties04id['P[bar]']\n",
    "dP0_loss = P04id-P04"
   ]
  },
  {
   "cell_type": "code",
   "execution_count": 36,
   "id": "981ec16a-f14f-4e77-be5a-1b25dd2a0971",
   "metadata": {},
   "outputs": [
    {
     "data": {
      "text/plain": [
       "0.018585455633594927"
      ]
     },
     "execution_count": 36,
     "metadata": {},
     "output_type": "execute_result"
    }
   ],
   "source": [
    "dP0_loss"
   ]
  },
  {
   "cell_type": "code",
   "execution_count": 37,
   "id": "9d1b1344-48a4-4de5-9f1a-b089c2d54f2a",
   "metadata": {},
   "outputs": [],
   "source": [
    "P02 = P01-dP0_loss/2"
   ]
  },
  {
   "cell_type": "markdown",
   "id": "c1caddd5-4942-4b41-91b9-80af5cf66f0d",
   "metadata": {},
   "source": [
    "## Point 02"
   ]
  },
  {
   "cell_type": "code",
   "execution_count": 38,
   "id": "f1de81c0-7d59-4dbd-bec2-5481dca867ab",
   "metadata": {},
   "outputs": [],
   "source": [
    "Properties02 = properties({'h' : h02_c, 'P' : P02})"
   ]
  },
  {
   "cell_type": "code",
   "execution_count": 39,
   "id": "614d4463-8b8c-4bf0-a44c-e9883b57e5f9",
   "metadata": {},
   "outputs": [
    {
     "data": {
      "text/plain": [
       "{'P[bar]': 1.9907072721832026,\n",
       " 'T[k]': 899.9949916527546,\n",
       " 'C_p[kj/kg-k]': 1.1212157926263546,\n",
       " 'h[kj/kg]': 937.5648948823913,\n",
       " 's[kj/kg-k]': 6.852732477034377}"
      ]
     },
     "execution_count": 39,
     "metadata": {},
     "output_type": "execute_result"
    }
   ],
   "source": [
    "Properties02"
   ]
  },
  {
   "cell_type": "code",
   "execution_count": 40,
   "id": "a8afe285-f08a-40ee-b33f-e0bac3a5faf4",
   "metadata": {},
   "outputs": [],
   "source": [
    "s2_c = Properties02['s[kj/kg-k]']"
   ]
  },
  {
   "cell_type": "markdown",
   "id": "55434bd2-8d5a-413a-be85-eb8b25f7b1fc",
   "metadata": {},
   "source": [
    "## Point 1"
   ]
  },
  {
   "cell_type": "code",
   "execution_count": 41,
   "id": "130b13a5-5eea-4248-9fcb-aab0a0edc90e",
   "metadata": {},
   "outputs": [],
   "source": [
    "h1_c = h01-(C1_c**2)/2000"
   ]
  },
  {
   "cell_type": "code",
   "execution_count": 42,
   "id": "94fda0fa-1e0e-4b5e-aebb-d7213a7e5e0a",
   "metadata": {},
   "outputs": [],
   "source": [
    "Properties1 = properties({'h' : h1_c, 's' : s1})"
   ]
  },
  {
   "cell_type": "code",
   "execution_count": 43,
   "id": "33d3b9e8-0895-4b72-ad41-57a2e4a5ae74",
   "metadata": {},
   "outputs": [
    {
     "data": {
      "text/plain": [
       "{'P[bar]': 1.9303595600516594,\n",
       " 'T[k]': 891.8647746243739,\n",
       " 'C_p[kj/kg-k]': 1.1194546755456563,\n",
       " 'h[kj/kg]': 928.4523948823913,\n",
       " 's[kj/kg-k]': 6.851401920512807}"
      ]
     },
     "execution_count": 43,
     "metadata": {},
     "output_type": "execute_result"
    }
   ],
   "source": [
    "Properties1"
   ]
  },
  {
   "cell_type": "code",
   "execution_count": 44,
   "id": "7a3edba7-8bdb-4248-b697-3dc1ad0a3409",
   "metadata": {},
   "outputs": [],
   "source": [
    "P1 = Properties1['P[bar]']\n",
    "T1 = Properties1['T[k]']\n",
    "C_p1 = Properties1['C_p[kj/kg-k]']\n",
    "gama1 = C_p1/(C_p1-R)"
   ]
  },
  {
   "cell_type": "markdown",
   "id": "17033bb5-5142-4518-b237-f9877b5337ea",
   "metadata": {},
   "source": [
    "## Point 4"
   ]
  },
  {
   "cell_type": "code",
   "execution_count": 45,
   "id": "8a9482ec-0d41-4c82-8f4b-7fc3346168fe",
   "metadata": {},
   "outputs": [],
   "source": [
    "h4 = h04-(C4_c**2)/2000"
   ]
  },
  {
   "cell_type": "code",
   "execution_count": 46,
   "id": "a72bda96-cfbb-4c46-a5d8-1ebb937d7bab",
   "metadata": {},
   "outputs": [],
   "source": [
    "Properties4 = properties({'h' : h4, 's' : s4})"
   ]
  },
  {
   "cell_type": "code",
   "execution_count": 47,
   "id": "fde5b209-e793-4aa4-aefa-9d447a021589",
   "metadata": {},
   "outputs": [
    {
     "data": {
      "text/plain": [
       "{'P[bar]': 1.6739882989901331,\n",
       " 'T[k]': 862.1252086811352,\n",
       " 'C_p[kj/kg-k]': 1.112855349128359,\n",
       " 'h[kj/kg]': 895.2578636323913,\n",
       " 's[kj/kg-k]': 6.854450885163198}"
      ]
     },
     "execution_count": 47,
     "metadata": {},
     "output_type": "execute_result"
    }
   ],
   "source": [
    "Properties4"
   ]
  },
  {
   "cell_type": "code",
   "execution_count": 48,
   "id": "f4beeaeb-f9c6-455a-81dc-c61e23264f9b",
   "metadata": {},
   "outputs": [],
   "source": [
    "h4_c = Properties4['h[kj/kg]']\n",
    "s4_c = Properties4['s[kj/kg-k]']\n",
    "P4_c = Properties4['P[bar]']\n",
    "T4_c = Properties4['T[k]']\n",
    "rho4_c = P4_c*101.325/(R*T4_c)\n",
    "C_p4 = Properties4['C_p[kj/kg-k]']\n",
    "gama4 = C_p4/(C_p4-R)\n",
    "M4_c = C4_c/((gama4*R*1000*T4_c)**0.5)\n",
    "M_w4_c = W4_c/((gama4*R*1000*T4_c)**0.5)"
   ]
  },
  {
   "cell_type": "markdown",
   "id": "840bb661-d3fb-47ff-b6df-c5718da01eea",
   "metadata": {},
   "source": [
    "## Point 2"
   ]
  },
  {
   "cell_type": "code",
   "execution_count": 49,
   "id": "b7ef5acc-9067-448e-a1d8-94699945cbae",
   "metadata": {},
   "outputs": [],
   "source": [
    "h2_c = h02_c-(C2_c**2)/2000"
   ]
  },
  {
   "cell_type": "code",
   "execution_count": 50,
   "id": "2f8a8d1b-04b5-46ad-9ad9-54130aa84fd6",
   "metadata": {},
   "outputs": [],
   "source": [
    "Properties2 = properties({'h' : h2_c, 's' : s2_c})"
   ]
  },
  {
   "cell_type": "code",
   "execution_count": 51,
   "id": "ed682605-d6ee-4e52-9ee3-e87e282d40c6",
   "metadata": {},
   "outputs": [
    {
     "data": {
      "text/plain": [
       "{'P[bar]': 1.7978170030482545,\n",
       " 'T[k]': 876.7646076794658,\n",
       " 'C_p[kj/kg-k]': 1.1161333852120963,\n",
       " 'h[kj/kg]': 911.5703636323913,\n",
       " 's[kj/kg-k]': 6.852732477034377}"
      ]
     },
     "execution_count": 51,
     "metadata": {},
     "output_type": "execute_result"
    }
   ],
   "source": [
    "Properties2"
   ]
  },
  {
   "cell_type": "code",
   "execution_count": 52,
   "id": "489cf94f-393f-4317-8b9b-b04414d4ca34",
   "metadata": {},
   "outputs": [],
   "source": [
    "h3 = h2_c\n",
    "h3_c = h2_c\n",
    "s3 = s2_c\n",
    "P2_c = Properties2['P[bar]']\n",
    "T2_c = Properties2['T[k]']\n",
    "rho2_c = P2_c*101.325/(R*T2_c)\n",
    "rho3_c = rho2_c\n",
    "C_p2 = Properties2['C_p[kj/kg-k]']\n",
    "gama2 = C_p2/(C_p2-R)\n",
    "M2_c = C2_c/((gama2*R*1000*T2_c)**0.5)\n",
    "M_w2_c = W3_c/((gama2*R*1000*T2_c)**0.5)"
   ]
  },
  {
   "cell_type": "markdown",
   "id": "e97028a3-eec2-43d8-a066-5d745278c29c",
   "metadata": {},
   "source": [
    "## Point 03rel"
   ]
  },
  {
   "cell_type": "code",
   "execution_count": 53,
   "id": "30e9e85e-0b72-4aa8-be1a-50bfbcc2a31f",
   "metadata": {},
   "outputs": [],
   "source": [
    "h03_rel = h3+(W3_c**2)/2000\n",
    "s03_rel = s3"
   ]
  },
  {
   "cell_type": "code",
   "execution_count": 54,
   "id": "b83fe21a-7d45-431a-800c-598e3e41ae6d",
   "metadata": {},
   "outputs": [],
   "source": [
    "Properties03_rel = properties({'h' : h03_rel, 's' : s03_rel})"
   ]
  },
  {
   "cell_type": "code",
   "execution_count": 55,
   "id": "3ae641ba-98ab-43ac-9e4c-a51298c60321",
   "metadata": {},
   "outputs": [
    {
     "data": {
      "text/plain": [
       "{'P[bar]': 1.8679270339279221,\n",
       " 'T[k]': 885.4257095158598,\n",
       " 'C_p[kj/kg-k]': 1.11804619264038,\n",
       " 'h[kj/kg]': 921.2523948823913,\n",
       " 's[kj/kg-k]': 6.852732477034377}"
      ]
     },
     "execution_count": 55,
     "metadata": {},
     "output_type": "execute_result"
    }
   ],
   "source": [
    "Properties03_rel"
   ]
  },
  {
   "cell_type": "markdown",
   "id": "3213d2fc-8bbb-451e-934d-c343bf5674bf",
   "metadata": {},
   "source": [
    "## Point 04_rel"
   ]
  },
  {
   "cell_type": "code",
   "execution_count": 56,
   "id": "1ca428a7-fef5-41c7-ae23-c4ac21d9617b",
   "metadata": {},
   "outputs": [],
   "source": [
    "h04_rel = h03_rel\n",
    "s04_rel = s4"
   ]
  },
  {
   "cell_type": "code",
   "execution_count": 57,
   "id": "a765dd08-e93c-4ef3-9603-de1493a9232b",
   "metadata": {},
   "outputs": [],
   "source": [
    "Properties04_rel = properties({'h' : h04_rel, 's' : s04_rel})"
   ]
  },
  {
   "cell_type": "code",
   "execution_count": 58,
   "id": "3c3754a3-482f-4ede-8bd8-1927bbc397d4",
   "metadata": {},
   "outputs": [
    {
     "data": {
      "text/plain": [
       "{'P[bar]': 1.856777777603247,\n",
       " 'T[k]': 885.4257095158598,\n",
       " 'C_p[kj/kg-k]': 1.11804619264038,\n",
       " 'h[kj/kg]': 921.2523948823913,\n",
       " 's[kj/kg-k]': 6.854450885163198}"
      ]
     },
     "execution_count": 58,
     "metadata": {},
     "output_type": "execute_result"
    }
   ],
   "source": [
    "Properties04_rel"
   ]
  },
  {
   "cell_type": "markdown",
   "id": "e70cf922-4918-42f8-84e6-d8fa23130eda",
   "metadata": {},
   "source": [
    "## Table of Thermodynamic Properties at r_c"
   ]
  },
  {
   "cell_type": "code",
   "execution_count": 59,
   "id": "d15caae3-694f-47ad-8aca-669a94c324f8",
   "metadata": {},
   "outputs": [],
   "source": [
    "Properties = {\n",
    "    'Point 1'             : Properties1,\n",
    "    'Point 01'            : Properties01,\n",
    "    'Point 2'             : Properties2,\n",
    "    'Point 02'            : Properties02,\n",
    "    'Point 3'             : Properties2,\n",
    "    'Point 03_rel'        : Properties03_rel,\n",
    "    'Point 4'             : Properties4,\n",
    "    'Point 04_rel'        : Properties04_rel,\n",
    "}"
   ]
  },
  {
   "cell_type": "code",
   "execution_count": 60,
   "id": "69b4f815-1416-4867-86b5-08e6f7f88e6c",
   "metadata": {},
   "outputs": [],
   "source": [
    "df = pd.DataFrame(Properties).T"
   ]
  },
  {
   "cell_type": "code",
   "execution_count": 61,
   "id": "2e96c6f0-2614-4c8f-9ea1-6208bab6299a",
   "metadata": {},
   "outputs": [
    {
     "data": {
      "text/html": [
       "<div>\n",
       "<style scoped>\n",
       "    .dataframe tbody tr th:only-of-type {\n",
       "        vertical-align: middle;\n",
       "    }\n",
       "\n",
       "    .dataframe tbody tr th {\n",
       "        vertical-align: top;\n",
       "    }\n",
       "\n",
       "    .dataframe thead th {\n",
       "        text-align: right;\n",
       "    }\n",
       "</style>\n",
       "<table border=\"1\" class=\"dataframe\">\n",
       "  <thead>\n",
       "    <tr style=\"text-align: right;\">\n",
       "      <th></th>\n",
       "      <th>P[bar]</th>\n",
       "      <th>T[k]</th>\n",
       "      <th>C_p[kj/kg-k]</th>\n",
       "      <th>h[kj/kg]</th>\n",
       "      <th>s[kj/kg-k]</th>\n",
       "    </tr>\n",
       "  </thead>\n",
       "  <tbody>\n",
       "    <tr>\n",
       "      <th>Point 1</th>\n",
       "      <td>1.930360</td>\n",
       "      <td>891.864775</td>\n",
       "      <td>1.119455</td>\n",
       "      <td>928.452395</td>\n",
       "      <td>6.851402</td>\n",
       "    </tr>\n",
       "    <tr>\n",
       "      <th>Point 01</th>\n",
       "      <td>2.000000</td>\n",
       "      <td>900.000000</td>\n",
       "      <td>1.121217</td>\n",
       "      <td>937.564895</td>\n",
       "      <td>6.851402</td>\n",
       "    </tr>\n",
       "    <tr>\n",
       "      <th>Point 2</th>\n",
       "      <td>1.797817</td>\n",
       "      <td>876.764608</td>\n",
       "      <td>1.116133</td>\n",
       "      <td>911.570364</td>\n",
       "      <td>6.852732</td>\n",
       "    </tr>\n",
       "    <tr>\n",
       "      <th>Point 02</th>\n",
       "      <td>1.990707</td>\n",
       "      <td>899.994992</td>\n",
       "      <td>1.121216</td>\n",
       "      <td>937.564895</td>\n",
       "      <td>6.852732</td>\n",
       "    </tr>\n",
       "    <tr>\n",
       "      <th>Point 3</th>\n",
       "      <td>1.797817</td>\n",
       "      <td>876.764608</td>\n",
       "      <td>1.116133</td>\n",
       "      <td>911.570364</td>\n",
       "      <td>6.852732</td>\n",
       "    </tr>\n",
       "    <tr>\n",
       "      <th>Point 03_rel</th>\n",
       "      <td>1.867927</td>\n",
       "      <td>885.425710</td>\n",
       "      <td>1.118046</td>\n",
       "      <td>921.252395</td>\n",
       "      <td>6.852732</td>\n",
       "    </tr>\n",
       "    <tr>\n",
       "      <th>Point 4</th>\n",
       "      <td>1.673988</td>\n",
       "      <td>862.125209</td>\n",
       "      <td>1.112855</td>\n",
       "      <td>895.257864</td>\n",
       "      <td>6.854451</td>\n",
       "    </tr>\n",
       "    <tr>\n",
       "      <th>Point 04_rel</th>\n",
       "      <td>1.856778</td>\n",
       "      <td>885.425710</td>\n",
       "      <td>1.118046</td>\n",
       "      <td>921.252395</td>\n",
       "      <td>6.854451</td>\n",
       "    </tr>\n",
       "  </tbody>\n",
       "</table>\n",
       "</div>"
      ],
      "text/plain": [
       "                P[bar]        T[k]  C_p[kj/kg-k]    h[kj/kg]  s[kj/kg-k]\n",
       "Point 1       1.930360  891.864775      1.119455  928.452395    6.851402\n",
       "Point 01      2.000000  900.000000      1.121217  937.564895    6.851402\n",
       "Point 2       1.797817  876.764608      1.116133  911.570364    6.852732\n",
       "Point 02      1.990707  899.994992      1.121216  937.564895    6.852732\n",
       "Point 3       1.797817  876.764608      1.116133  911.570364    6.852732\n",
       "Point 03_rel  1.867927  885.425710      1.118046  921.252395    6.852732\n",
       "Point 4       1.673988  862.125209      1.112855  895.257864    6.854451\n",
       "Point 04_rel  1.856778  885.425710      1.118046  921.252395    6.854451"
      ]
     },
     "execution_count": 61,
     "metadata": {},
     "output_type": "execute_result"
    }
   ],
   "source": [
    "df"
   ]
  },
  {
   "cell_type": "markdown",
   "id": "24299f32-477f-4a7f-b2c1-6d5180ad9ace",
   "metadata": {},
   "source": [
    "# Blade Height"
   ]
  },
  {
   "cell_type": "code",
   "execution_count": 62,
   "id": "ffae9c9d-dadb-49ca-aa1e-fa78d7aada65",
   "metadata": {},
   "outputs": [],
   "source": [
    "Cm1_c = phi_c*U_c\n",
    "rho1_c = P1*101.325/(R*T1)"
   ]
  },
  {
   "cell_type": "code",
   "execution_count": 63,
   "id": "4f5d40ce-38de-4d26-9844-7b635daf4ae7",
   "metadata": {},
   "outputs": [],
   "source": [
    "h1 = m_dot/(2*math.pi*r_c*rho1_c*Cm1_c)"
   ]
  },
  {
   "cell_type": "code",
   "execution_count": 64,
   "id": "00a5744b-308d-4908-a818-ae170b120dc5",
   "metadata": {},
   "outputs": [
    {
     "data": {
      "text/plain": [
       "0.09695080178187669"
      ]
     },
     "execution_count": 64,
     "metadata": {},
     "output_type": "execute_result"
    }
   ],
   "source": [
    "h1"
   ]
  },
  {
   "cell_type": "code",
   "execution_count": 65,
   "id": "cb848372-b1bb-4936-848a-990239112232",
   "metadata": {},
   "outputs": [],
   "source": [
    "r_h1 = r_c-h1/2\n",
    "r_s1 = r_c+h1/2"
   ]
  },
  {
   "cell_type": "code",
   "execution_count": 66,
   "id": "af0582a7-b4d6-4c91-abed-1ef8a6f3e9cf",
   "metadata": {},
   "outputs": [
    {
     "data": {
      "text/plain": [
       "(0.19025701374690465, 0.28720781552878133)"
      ]
     },
     "execution_count": 66,
     "metadata": {},
     "output_type": "execute_result"
    }
   ],
   "source": [
    "r_h1, r_s1"
   ]
  },
  {
   "cell_type": "markdown",
   "id": "165953ed-9b7c-4f02-b4b1-7a92e67d7447",
   "metadata": {},
   "source": [
    "# Number of Blades"
   ]
  },
  {
   "cell_type": "markdown",
   "id": "1cc099c6-7241-4591-802e-953bbab05413",
   "metadata": {},
   "source": [
    "## Stator"
   ]
  },
  {
   "cell_type": "code",
   "execution_count": 67,
   "id": "3a7a1a72-b03c-4463-b993-9b0184e9494d",
   "metadata": {},
   "outputs": [],
   "source": [
    "row = 'Stator'"
   ]
  },
  {
   "cell_type": "markdown",
   "id": "d15427a7-2bc2-4cb1-a3e4-0bea536aecc6",
   "metadata": {},
   "source": [
    "By incidence = 0 We have:"
   ]
  },
  {
   "cell_type": "code",
   "execution_count": 68,
   "id": "356283d5-3b27-4bb8-920c-c57863811cf7",
   "metadata": {},
   "outputs": [],
   "source": [
    "alpha1_prime_c = alpha1_c"
   ]
  },
  {
   "cell_type": "markdown",
   "id": "e038f8f1-a500-4f80-80ed-0dc9a3e27cb3",
   "metadata": {},
   "source": [
    "The turbine is a low-pressure turbine so We can choose aspect ratio like this:"
   ]
  },
  {
   "cell_type": "code",
   "execution_count": 69,
   "id": "31288e35-b249-474b-b741-4ca260da6d7c",
   "metadata": {},
   "outputs": [],
   "source": [
    "h_c = 2"
   ]
  },
  {
   "cell_type": "code",
   "execution_count": 70,
   "id": "9adc8f13-bc3e-43c9-9ce3-317eab53e3ab",
   "metadata": {},
   "outputs": [],
   "source": [
    "c = h1/h_c"
   ]
  },
  {
   "cell_type": "code",
   "execution_count": 71,
   "id": "bf632f21-64df-4b41-8e8f-49dd2d159960",
   "metadata": {},
   "outputs": [
    {
     "data": {
      "text/plain": [
       "0.048475400890938346"
      ]
     },
     "execution_count": 71,
     "metadata": {},
     "output_type": "execute_result"
    }
   ],
   "source": [
    "c"
   ]
  },
  {
   "cell_type": "code",
   "execution_count": 72,
   "id": "ce0d5b4f-3d3a-4c1b-8fc2-e1dd7f916e8c",
   "metadata": {},
   "outputs": [],
   "source": [
    "dic = NOB(alpha1_c, alpha2_c, alpha1_prime_c, row, c, r_c)"
   ]
  },
  {
   "cell_type": "code",
   "execution_count": 73,
   "id": "e45477fa-c67a-4d3d-b907-5ff2612c9049",
   "metadata": {},
   "outputs": [
    {
     "data": {
      "text/plain": [
       "{'NOB_AM': 36,\n",
       " 's_AM': 0.04365452892616798,\n",
       " 'NOB_zw': 40,\n",
       " 's_zw': 0.037795447937002055}"
      ]
     },
     "execution_count": 73,
     "metadata": {},
     "output_type": "execute_result"
    }
   ],
   "source": [
    "dic"
   ]
  },
  {
   "cell_type": "code",
   "execution_count": 74,
   "id": "8d2f5882-2ce0-41b8-b367-438e3a5a787a",
   "metadata": {},
   "outputs": [],
   "source": [
    "NOB_s, s_s = dic['NOB_AM'], dic['s_AM']"
   ]
  },
  {
   "cell_type": "code",
   "execution_count": 75,
   "id": "64b8b5e4-5ef2-4025-91e2-3c06dab17944",
   "metadata": {},
   "outputs": [
    {
     "data": {
      "text/plain": [
       "(36, 0.04365452892616798)"
      ]
     },
     "execution_count": 75,
     "metadata": {},
     "output_type": "execute_result"
    }
   ],
   "source": [
    "NOB_s, s_s"
   ]
  },
  {
   "cell_type": "markdown",
   "id": "6961d76e-061f-4bd9-afe9-c3b52440495d",
   "metadata": {},
   "source": [
    "## Rotor"
   ]
  },
  {
   "cell_type": "code",
   "execution_count": 76,
   "id": "07781992-a0df-42d2-b95b-bc69f818464b",
   "metadata": {},
   "outputs": [],
   "source": [
    "Beta2_c = -Beta2_c\n",
    "row = 'Rotor'"
   ]
  },
  {
   "cell_type": "markdown",
   "id": "16bf7533-cb7c-4efd-9b09-831f0d795220",
   "metadata": {},
   "source": [
    "By incidence = 0 We have:"
   ]
  },
  {
   "cell_type": "code",
   "execution_count": 77,
   "id": "396e618e-01c0-496a-af33-73f9f48e94c7",
   "metadata": {},
   "outputs": [],
   "source": [
    "Beta1_prime_c = Beta1_c"
   ]
  },
  {
   "cell_type": "code",
   "execution_count": 78,
   "id": "2a0c9aa0-3f77-48f5-a984-250c4e7c246a",
   "metadata": {},
   "outputs": [
    {
     "data": {
      "text/plain": [
       "36.304497122575235"
      ]
     },
     "execution_count": 78,
     "metadata": {},
     "output_type": "execute_result"
    }
   ],
   "source": [
    "Beta2_c"
   ]
  },
  {
   "cell_type": "markdown",
   "id": "71d3e183-4a9b-4e8b-84d6-f8d913b3d8ff",
   "metadata": {},
   "source": [
    "The turbine is a low-pressure turbine so We can choose aspect ratio like this:"
   ]
  },
  {
   "cell_type": "code",
   "execution_count": 79,
   "id": "13cee818-0b3b-48db-9e52-f02b62587e28",
   "metadata": {},
   "outputs": [],
   "source": [
    "h_c = 2"
   ]
  },
  {
   "cell_type": "code",
   "execution_count": 80,
   "id": "48b472a5-a8e8-4acf-8830-b48ddf03ed66",
   "metadata": {},
   "outputs": [],
   "source": [
    "c = h1/h_c"
   ]
  },
  {
   "cell_type": "code",
   "execution_count": 81,
   "id": "2a7d3bb4-464b-46fb-b79e-b88db4be001b",
   "metadata": {},
   "outputs": [
    {
     "data": {
      "text/plain": [
       "0.048475400890938346"
      ]
     },
     "execution_count": 81,
     "metadata": {},
     "output_type": "execute_result"
    }
   ],
   "source": [
    "c"
   ]
  },
  {
   "cell_type": "code",
   "execution_count": 82,
   "id": "3c8818a0-89b8-4762-b027-15405bd697c0",
   "metadata": {},
   "outputs": [],
   "source": [
    "dic = NOB(Beta1_c, Beta2_c, Beta1_prime_c, row, c, r_c)"
   ]
  },
  {
   "cell_type": "code",
   "execution_count": 83,
   "id": "7f88410a-6529-4505-b3c2-ce88600215da",
   "metadata": {},
   "outputs": [
    {
     "data": {
      "text/plain": [
       "{'NOB_AM': 37,\n",
       " 's_AM': 0.04089789063801963,\n",
       " 'NOB_zw': 45,\n",
       " 's_zw': 0.03376311097266533}"
      ]
     },
     "execution_count": 83,
     "metadata": {},
     "output_type": "execute_result"
    }
   ],
   "source": [
    "dic"
   ]
  },
  {
   "cell_type": "code",
   "execution_count": 84,
   "id": "6e64e14b-913d-43a5-bfc5-6e3361820f0b",
   "metadata": {},
   "outputs": [],
   "source": [
    "NOB_r, s_r = dic['NOB_AM'], dic['s_AM']"
   ]
  },
  {
   "cell_type": "code",
   "execution_count": 85,
   "id": "16238dbb-164b-4c09-9e78-05ed103f5036",
   "metadata": {},
   "outputs": [
    {
     "data": {
      "text/plain": [
       "(37, 0.04089789063801963)"
      ]
     },
     "execution_count": 85,
     "metadata": {},
     "output_type": "execute_result"
    }
   ],
   "source": [
    "NOB_r, s_r"
   ]
  },
  {
   "cell_type": "markdown",
   "id": "c7be0e06-31f2-44a2-b68a-72d4284be90c",
   "metadata": {},
   "source": [
    "# Velocity Triangles from Hub to Shroud"
   ]
  },
  {
   "cell_type": "markdown",
   "id": "da0bac75-4736-4fa6-94f4-be03bc8d9a37",
   "metadata": {},
   "source": [
    "## Section 1"
   ]
  },
  {
   "cell_type": "markdown",
   "id": "843aa31c-6f24-40c4-8b44-a331fdc0ef70",
   "metadata": {},
   "source": [
    "We need to create an array of different points on the blade at the interance of the turbine and stator and we need to consider this matter that this array shoud have an even number of arguments:"
   ]
  },
  {
   "cell_type": "code",
   "execution_count": 86,
   "id": "3c67ffbf-4ea3-47b8-b149-54f923e3038a",
   "metadata": {},
   "outputs": [
    {
     "data": {
      "text/plain": [
       "(0.19025701374690465, 0.238732414637843, 0.28720781552878133)"
      ]
     },
     "execution_count": 86,
     "metadata": {},
     "output_type": "execute_result"
    }
   ],
   "source": [
    "r_h1, r_c, r_s1"
   ]
  },
  {
   "cell_type": "code",
   "execution_count": 87,
   "id": "2130abe0-00dd-4d47-85ad-cea60a77b3ed",
   "metadata": {},
   "outputs": [],
   "source": [
    "n = 99                        #number of points\n",
    "m = int((n+1)/2)\n",
    "p = m-1\n",
    "r1_1 = np.linspace(r_h1, r_c, m)\n",
    "r1_2 = np.linspace(r_c, r_s1, m)\n",
    "r1 = np.array(list(r1_1)+list(r1_2[1:]))"
   ]
  },
  {
   "cell_type": "markdown",
   "id": "60712e29-4a96-438e-b4fd-340932e05c84",
   "metadata": {},
   "source": [
    "For this section We wrote a function that gives the properties at every radius as output:"
   ]
  },
  {
   "cell_type": "code",
   "execution_count": 88,
   "id": "5345a965-d31d-4e26-a59e-c38e69d245b6",
   "metadata": {},
   "outputs": [],
   "source": [
    "section1 = Section1(r1, Cm1_c, alpha1_c, R, Properties01, Properties1)"
   ]
  },
  {
   "cell_type": "code",
   "execution_count": 89,
   "id": "9ce17ba2-7dd7-4933-8fe5-a1d9221909cb",
   "metadata": {},
   "outputs": [
    {
     "data": {
      "text/plain": [
       "{'P0[bar]': 2,\n",
       " 'T0[k]': 900,\n",
       " 'h0[kj/kg]': 937.5648948823913,\n",
       " 's[kj/kg-k]': 6.851401920512807,\n",
       " 'P[bar]': 1.9303595600516594,\n",
       " 'T[k]': 891.8647746243739,\n",
       " 'h[kj/kg]': 928.4523948823913,\n",
       " 'rho[kg/m^3]': 0.7640377667090215}"
      ]
     },
     "execution_count": 89,
     "metadata": {},
     "output_type": "execute_result"
    }
   ],
   "source": [
    "section1"
   ]
  },
  {
   "cell_type": "markdown",
   "id": "bfbdf52b-69b7-430b-b697-e7eea765d1c0",
   "metadata": {},
   "source": [
    "## Section 2"
   ]
  },
  {
   "cell_type": "markdown",
   "id": "8b05161c-a04b-4ca2-b868-99068a32ff48",
   "metadata": {},
   "source": [
    "We only can use Free Vortex, Exponential Vortex and Constant Nozzle Angle Vortex distributions to get a reasonable answer, so We have:"
   ]
  },
  {
   "cell_type": "markdown",
   "id": "b90689ca-23f9-4257-8e47-f7c7e2facce9",
   "metadata": {},
   "source": [
    "### Free Vortex"
   ]
  },
  {
   "cell_type": "code",
   "execution_count": 90,
   "id": "af6a2056-705c-49d0-a4a1-90c73de0d345",
   "metadata": {},
   "outputs": [],
   "source": [
    "r2_FV, h2_FV, s2_FV, P2_FV, T2_FV, rho2_FV, C_theta2_FV, Cm2_FV, alpha2_FV, M2_FV, h_blade2_FV = Specifications2(\n",
    "    m, C2_c, alpha2_c, r_c, h02_c, n, R, R_c, psi_c, U_c,\n",
    "    omega, C_theta2_c, Cm1_c, rho1_c, r1, h1_c, h2_c,\n",
    "    s2_c, P2_c, T2_c, rho2_c, Cm2_c, M2_c, 'FV'\n",
    ")"
   ]
  },
  {
   "cell_type": "code",
   "execution_count": 91,
   "id": "518e79fa-725b-4250-aa58-8731cf272598",
   "metadata": {},
   "outputs": [],
   "source": [
    "dr_tip_stator_FV = r2_FV[-1]-r1[-1]\n",
    "dr_hub_stator_FV = r1[0]-r2_FV[0]"
   ]
  },
  {
   "cell_type": "code",
   "execution_count": 92,
   "id": "b035f48e-7fad-420b-bd88-f7cbba21ede9",
   "metadata": {},
   "outputs": [],
   "source": [
    "C2_FV = (C_theta2_FV**2+Cm2_FV**2)**0.5\n",
    "W_theta2_FV = C_theta2_FV-r2_FV*omega\n",
    "W2_FV = (W_theta2_FV**2+Cm2_FV**2)**0.5\n",
    "Beta2_FV = np.array([math.degrees(math.acos(item)) if item > 0 else -math.degrees(math.acos(item)) for item in (W_theta2_FV/W2_FV)])\n",
    "M_w2_FV = W2_FV/(C2_FV/M2_FV)"
   ]
  },
  {
   "cell_type": "code",
   "execution_count": 93,
   "id": "6333294e-3613-4db7-8393-71bc20641bc6",
   "metadata": {},
   "outputs": [],
   "source": [
    "dic1 = {\n",
    "    'r2[meter]'      : r2_FV,\n",
    "    'h2[kj/kg]'      : h2_FV,         \n",
    "    'P2[bar]'        : P2_FV,      \n",
    "    'T2[k]'          : T2_FV,    \n",
    "    'rho2[kg/m^3]'   : rho2_FV,           \n",
    "    'C_theta2[m/s]'  : C_theta2_FV,            \n",
    "    'Cm2[m/s]'       : Cm2_FV,\n",
    "    'C2[m/s]'        : C2_FV,\n",
    "    'alpha2[degree]' : alpha2_FV,\n",
    "    'M2'             : M2_FV,\n",
    "    'W_theta2[m/s]'  : W_theta2_FV,\n",
    "    'W2[m/s]'        : W2_FV,\n",
    "    'Beta2[degree]'  : Beta2_FV,\n",
    "    'M_w2'           : M_w2_FV,\n",
    "}"
   ]
  },
  {
   "cell_type": "code",
   "execution_count": 94,
   "id": "77ba5b22-131e-41d4-b0ca-46c02ad4cc27",
   "metadata": {},
   "outputs": [
    {
     "data": {
      "text/html": [
       "<div>\n",
       "<style scoped>\n",
       "    .dataframe tbody tr th:only-of-type {\n",
       "        vertical-align: middle;\n",
       "    }\n",
       "\n",
       "    .dataframe tbody tr th {\n",
       "        vertical-align: top;\n",
       "    }\n",
       "\n",
       "    .dataframe thead th {\n",
       "        text-align: right;\n",
       "    }\n",
       "</style>\n",
       "<table border=\"1\" class=\"dataframe\">\n",
       "  <thead>\n",
       "    <tr style=\"text-align: right;\">\n",
       "      <th></th>\n",
       "      <th>r2[meter]</th>\n",
       "      <th>h2[kj/kg]</th>\n",
       "      <th>P2[bar]</th>\n",
       "      <th>T2[k]</th>\n",
       "      <th>rho2[kg/m^3]</th>\n",
       "      <th>C_theta2[m/s]</th>\n",
       "      <th>Cm2[m/s]</th>\n",
       "      <th>C2[m/s]</th>\n",
       "      <th>alpha2[degree]</th>\n",
       "      <th>M2</th>\n",
       "      <th>W_theta2[m/s]</th>\n",
       "      <th>W2[m/s]</th>\n",
       "      <th>Beta2[degree]</th>\n",
       "      <th>M_w2</th>\n",
       "    </tr>\n",
       "  </thead>\n",
       "  <tbody>\n",
       "    <tr>\n",
       "      <th>0</th>\n",
       "      <td>0.178932</td>\n",
       "      <td>902.441323</td>\n",
       "      <td>1.733441</td>\n",
       "      <td>868.574290</td>\n",
       "      <td>0.705793</td>\n",
       "      <td>245.023122</td>\n",
       "      <td>101.048571</td>\n",
       "      <td>265.041778</td>\n",
       "      <td>22.411458</td>\n",
       "      <td>0.457363</td>\n",
       "      <td>132.596570</td>\n",
       "      <td>166.711320</td>\n",
       "      <td>37.310130</td>\n",
       "      <td>0.287681</td>\n",
       "    </tr>\n",
       "    <tr>\n",
       "      <th>1</th>\n",
       "      <td>0.180432</td>\n",
       "      <td>902.687490</td>\n",
       "      <td>1.735149</td>\n",
       "      <td>868.794658</td>\n",
       "      <td>0.706246</td>\n",
       "      <td>242.987284</td>\n",
       "      <td>103.498742</td>\n",
       "      <td>264.111359</td>\n",
       "      <td>23.071242</td>\n",
       "      <td>0.455703</td>\n",
       "      <td>129.618255</td>\n",
       "      <td>165.870074</td>\n",
       "      <td>38.606978</td>\n",
       "      <td>0.286196</td>\n",
       "    </tr>\n",
       "    <tr>\n",
       "      <th>2</th>\n",
       "      <td>0.181932</td>\n",
       "      <td>902.932791</td>\n",
       "      <td>1.736858</td>\n",
       "      <td>869.015025</td>\n",
       "      <td>0.706700</td>\n",
       "      <td>240.984999</td>\n",
       "      <td>105.784865</td>\n",
       "      <td>263.180940</td>\n",
       "      <td>23.699969</td>\n",
       "      <td>0.454044</td>\n",
       "      <td>126.673491</td>\n",
       "      <td>165.035181</td>\n",
       "      <td>39.865212</td>\n",
       "      <td>0.284721</td>\n",
       "    </tr>\n",
       "    <tr>\n",
       "      <th>3</th>\n",
       "      <td>0.183432</td>\n",
       "      <td>903.177227</td>\n",
       "      <td>1.738569</td>\n",
       "      <td>869.235392</td>\n",
       "      <td>0.707153</td>\n",
       "      <td>239.015442</td>\n",
       "      <td>107.921056</td>\n",
       "      <td>262.250521</td>\n",
       "      <td>24.300288</td>\n",
       "      <td>0.452385</td>\n",
       "      <td>123.761457</td>\n",
       "      <td>164.206737</td>\n",
       "      <td>41.088708</td>\n",
       "      <td>0.283258</td>\n",
       "    </tr>\n",
       "    <tr>\n",
       "      <th>4</th>\n",
       "      <td>0.184832</td>\n",
       "      <td>903.404586</td>\n",
       "      <td>1.740203</td>\n",
       "      <td>869.445743</td>\n",
       "      <td>0.707576</td>\n",
       "      <td>237.206015</td>\n",
       "      <td>109.790364</td>\n",
       "      <td>261.382130</td>\n",
       "      <td>24.836971</td>\n",
       "      <td>0.450835</td>\n",
       "      <td>121.072384</td>\n",
       "      <td>163.439427</td>\n",
       "      <td>42.202241</td>\n",
       "      <td>0.281902</td>\n",
       "    </tr>\n",
       "    <tr>\n",
       "      <th>...</th>\n",
       "      <td>...</td>\n",
       "      <td>...</td>\n",
       "      <td>...</td>\n",
       "      <td>...</td>\n",
       "      <td>...</td>\n",
       "      <td>...</td>\n",
       "      <td>...</td>\n",
       "      <td>...</td>\n",
       "      <td>...</td>\n",
       "      <td>...</td>\n",
       "      <td>...</td>\n",
       "      <td>...</td>\n",
       "      <td>...</td>\n",
       "      <td>...</td>\n",
       "    </tr>\n",
       "    <tr>\n",
       "      <th>94</th>\n",
       "      <td>0.289332</td>\n",
       "      <td>918.222008</td>\n",
       "      <td>1.845753</td>\n",
       "      <td>882.714524</td>\n",
       "      <td>0.739092</td>\n",
       "      <td>151.667237</td>\n",
       "      <td>125.231080</td>\n",
       "      <td>196.686995</td>\n",
       "      <td>39.546362</td>\n",
       "      <td>0.336843</td>\n",
       "      <td>-30.125681</td>\n",
       "      <td>128.803649</td>\n",
       "      <td>-103.526107</td>\n",
       "      <td>0.220587</td>\n",
       "    </tr>\n",
       "    <tr>\n",
       "      <th>95</th>\n",
       "      <td>0.290532</td>\n",
       "      <td>918.368132</td>\n",
       "      <td>1.846895</td>\n",
       "      <td>882.854758</td>\n",
       "      <td>0.739455</td>\n",
       "      <td>151.040583</td>\n",
       "      <td>124.820945</td>\n",
       "      <td>195.942660</td>\n",
       "      <td>39.570554</td>\n",
       "      <td>0.335543</td>\n",
       "      <td>-31.506317</td>\n",
       "      <td>128.735840</td>\n",
       "      <td>-104.166243</td>\n",
       "      <td>0.220454</td>\n",
       "    </tr>\n",
       "    <tr>\n",
       "      <th>96</th>\n",
       "      <td>0.291732</td>\n",
       "      <td>918.513702</td>\n",
       "      <td>1.847956</td>\n",
       "      <td>882.984975</td>\n",
       "      <td>0.739817</td>\n",
       "      <td>150.419086</td>\n",
       "      <td>124.404520</td>\n",
       "      <td>195.198325</td>\n",
       "      <td>39.592543</td>\n",
       "      <td>0.334245</td>\n",
       "      <td>-32.881796</td>\n",
       "      <td>128.676716</td>\n",
       "      <td>-104.805469</td>\n",
       "      <td>0.220338</td>\n",
       "    </tr>\n",
       "    <tr>\n",
       "      <th>97</th>\n",
       "      <td>0.292932</td>\n",
       "      <td>918.658718</td>\n",
       "      <td>1.849017</td>\n",
       "      <td>883.115192</td>\n",
       "      <td>0.740180</td>\n",
       "      <td>149.802682</td>\n",
       "      <td>123.981896</td>\n",
       "      <td>194.453990</td>\n",
       "      <td>39.612337</td>\n",
       "      <td>0.332948</td>\n",
       "      <td>-34.252182</td>\n",
       "      <td>128.626290</td>\n",
       "      <td>-105.443752</td>\n",
       "      <td>0.220236</td>\n",
       "    </tr>\n",
       "    <tr>\n",
       "      <th>98</th>\n",
       "      <td>0.294132</td>\n",
       "      <td>918.803180</td>\n",
       "      <td>1.849997</td>\n",
       "      <td>883.235392</td>\n",
       "      <td>0.740542</td>\n",
       "      <td>149.191310</td>\n",
       "      <td>123.553159</td>\n",
       "      <td>193.709655</td>\n",
       "      <td>39.629941</td>\n",
       "      <td>0.331652</td>\n",
       "      <td>-35.617536</td>\n",
       "      <td>128.584572</td>\n",
       "      <td>-106.081056</td>\n",
       "      <td>0.220151</td>\n",
       "    </tr>\n",
       "  </tbody>\n",
       "</table>\n",
       "<p>99 rows × 14 columns</p>\n",
       "</div>"
      ],
      "text/plain": [
       "    r2[meter]   h2[kj/kg]   P2[bar]       T2[k]  rho2[kg/m^3]  C_theta2[m/s]  \\\n",
       "0    0.178932  902.441323  1.733441  868.574290      0.705793     245.023122   \n",
       "1    0.180432  902.687490  1.735149  868.794658      0.706246     242.987284   \n",
       "2    0.181932  902.932791  1.736858  869.015025      0.706700     240.984999   \n",
       "3    0.183432  903.177227  1.738569  869.235392      0.707153     239.015442   \n",
       "4    0.184832  903.404586  1.740203  869.445743      0.707576     237.206015   \n",
       "..        ...         ...       ...         ...           ...            ...   \n",
       "94   0.289332  918.222008  1.845753  882.714524      0.739092     151.667237   \n",
       "95   0.290532  918.368132  1.846895  882.854758      0.739455     151.040583   \n",
       "96   0.291732  918.513702  1.847956  882.984975      0.739817     150.419086   \n",
       "97   0.292932  918.658718  1.849017  883.115192      0.740180     149.802682   \n",
       "98   0.294132  918.803180  1.849997  883.235392      0.740542     149.191310   \n",
       "\n",
       "      Cm2[m/s]     C2[m/s]  alpha2[degree]        M2  W_theta2[m/s]  \\\n",
       "0   101.048571  265.041778       22.411458  0.457363     132.596570   \n",
       "1   103.498742  264.111359       23.071242  0.455703     129.618255   \n",
       "2   105.784865  263.180940       23.699969  0.454044     126.673491   \n",
       "3   107.921056  262.250521       24.300288  0.452385     123.761457   \n",
       "4   109.790364  261.382130       24.836971  0.450835     121.072384   \n",
       "..         ...         ...             ...       ...            ...   \n",
       "94  125.231080  196.686995       39.546362  0.336843     -30.125681   \n",
       "95  124.820945  195.942660       39.570554  0.335543     -31.506317   \n",
       "96  124.404520  195.198325       39.592543  0.334245     -32.881796   \n",
       "97  123.981896  194.453990       39.612337  0.332948     -34.252182   \n",
       "98  123.553159  193.709655       39.629941  0.331652     -35.617536   \n",
       "\n",
       "       W2[m/s]  Beta2[degree]      M_w2  \n",
       "0   166.711320      37.310130  0.287681  \n",
       "1   165.870074      38.606978  0.286196  \n",
       "2   165.035181      39.865212  0.284721  \n",
       "3   164.206737      41.088708  0.283258  \n",
       "4   163.439427      42.202241  0.281902  \n",
       "..         ...            ...       ...  \n",
       "94  128.803649    -103.526107  0.220587  \n",
       "95  128.735840    -104.166243  0.220454  \n",
       "96  128.676716    -104.805469  0.220338  \n",
       "97  128.626290    -105.443752  0.220236  \n",
       "98  128.584572    -106.081056  0.220151  \n",
       "\n",
       "[99 rows x 14 columns]"
      ]
     },
     "execution_count": 94,
     "metadata": {},
     "output_type": "execute_result"
    }
   ],
   "source": [
    "pd.DataFrame(dic1)"
   ]
  },
  {
   "cell_type": "markdown",
   "id": "f7df5fba-148c-4ee9-a2ae-ab0ccbd9fb37",
   "metadata": {},
   "source": [
    "### Exponential Vortex"
   ]
  },
  {
   "cell_type": "code",
   "execution_count": 95,
   "id": "bcd65944-30f0-4415-a798-e3f86d8853a7",
   "metadata": {},
   "outputs": [],
   "source": [
    "r2_EV, h2_EV, s2_EV, P2_EV, T2_EV, rho2_EV, C_theta2_EV, Cm2_EV, alpha2_EV, M2_EV, h_blade2_EV = Specifications2(\n",
    "    m, C2_c, alpha2_c, r_c, h02_c, n, R, R_c, psi_c, U_c,\n",
    "    omega, C_theta2_c, Cm1_c, rho1_c, r1, h1_c, h2_c,\n",
    "    s2_c, P2_c, T2_c, rho2_c, Cm2_c, M2_c, 'EV'\n",
    ")"
   ]
  },
  {
   "cell_type": "code",
   "execution_count": 96,
   "id": "90e6ed97-42c4-4846-9f47-6efb8494e7da",
   "metadata": {},
   "outputs": [],
   "source": [
    "dr_tip_stator_EV = r2_EV[-1]-r1[-1]\n",
    "dr_hub_stator_EV = r1[0]-r2_EV[0]"
   ]
  },
  {
   "cell_type": "code",
   "execution_count": 97,
   "id": "df66d59d-c77c-4dac-abf4-08fa13fb1adc",
   "metadata": {},
   "outputs": [],
   "source": [
    "C2_EV = (C_theta2_EV**2+Cm2_EV**2)**0.5\n",
    "W_theta2_EV = C_theta2_EV-r2_EV*omega\n",
    "W2_EV = (W_theta2_EV**2+Cm2_EV**2)**0.5\n",
    "Beta2_EV = np.array([math.degrees(math.acos(item)) if item > 0 else -math.degrees(math.acos(item))  for item in (W_theta2_EV/W2_EV)])\n",
    "M_w2_EV = W2_EV/(C2_EV/M2_EV)"
   ]
  },
  {
   "cell_type": "code",
   "execution_count": 98,
   "id": "9fbbc8c3-4728-4687-9a1a-357f7499e262",
   "metadata": {},
   "outputs": [],
   "source": [
    "dic2 = {\n",
    "    'r2[meter]'      : r2_EV,\n",
    "    'h2[kj/kg]'      : h2_EV,         \n",
    "    'P2[bar]'        : P2_EV,      \n",
    "    'T2[k]'          : T2_EV,    \n",
    "    'rho2[kg/m^3]'   : rho2_EV,           \n",
    "    'C_theta2[m/s]'  : C_theta2_EV,            \n",
    "    'Cm2[m/s]'       : Cm2_EV,\n",
    "    'C2[m/s]'        : C2_EV,\n",
    "    'alpha2[degree]' : alpha2_EV,\n",
    "    'M2'             : M2_EV,\n",
    "    'W_theta2[m/s]'  : W_theta2_EV,\n",
    "    'W2[m/s]'        : W2_EV,\n",
    "    'Beta2[degree]'  : Beta2_EV,\n",
    "    'M_w2'           : M_w2_EV,\n",
    "}"
   ]
  },
  {
   "cell_type": "code",
   "execution_count": 99,
   "id": "29b8b76a-fc1c-4166-abad-421071545e6d",
   "metadata": {},
   "outputs": [
    {
     "data": {
      "text/html": [
       "<div>\n",
       "<style scoped>\n",
       "    .dataframe tbody tr th:only-of-type {\n",
       "        vertical-align: middle;\n",
       "    }\n",
       "\n",
       "    .dataframe tbody tr th {\n",
       "        vertical-align: top;\n",
       "    }\n",
       "\n",
       "    .dataframe thead th {\n",
       "        text-align: right;\n",
       "    }\n",
       "</style>\n",
       "<table border=\"1\" class=\"dataframe\">\n",
       "  <thead>\n",
       "    <tr style=\"text-align: right;\">\n",
       "      <th></th>\n",
       "      <th>r2[meter]</th>\n",
       "      <th>h2[kj/kg]</th>\n",
       "      <th>P2[bar]</th>\n",
       "      <th>T2[k]</th>\n",
       "      <th>rho2[kg/m^3]</th>\n",
       "      <th>C_theta2[m/s]</th>\n",
       "      <th>Cm2[m/s]</th>\n",
       "      <th>C2[m/s]</th>\n",
       "      <th>alpha2[degree]</th>\n",
       "      <th>M2</th>\n",
       "      <th>W_theta2[m/s]</th>\n",
       "      <th>W2[m/s]</th>\n",
       "      <th>Beta2[degree]</th>\n",
       "      <th>M_w2</th>\n",
       "    </tr>\n",
       "  </thead>\n",
       "  <tbody>\n",
       "    <tr>\n",
       "      <th>0</th>\n",
       "      <td>0.184832</td>\n",
       "      <td>903.404586</td>\n",
       "      <td>1.740203</td>\n",
       "      <td>869.445743</td>\n",
       "      <td>0.707576</td>\n",
       "      <td>215.387234</td>\n",
       "      <td>148.084292</td>\n",
       "      <td>261.382130</td>\n",
       "      <td>34.509529</td>\n",
       "      <td>0.450835</td>\n",
       "      <td>99.253602</td>\n",
       "      <td>178.270118</td>\n",
       "      <td>56.168002</td>\n",
       "      <td>0.307483</td>\n",
       "    </tr>\n",
       "    <tr>\n",
       "      <th>1</th>\n",
       "      <td>0.185932</td>\n",
       "      <td>903.582696</td>\n",
       "      <td>1.741436</td>\n",
       "      <td>869.604341</td>\n",
       "      <td>0.707908</td>\n",
       "      <td>214.557131</td>\n",
       "      <td>148.086579</td>\n",
       "      <td>260.699823</td>\n",
       "      <td>34.613302</td>\n",
       "      <td>0.449620</td>\n",
       "      <td>97.732350</td>\n",
       "      <td>177.429555</td>\n",
       "      <td>56.576481</td>\n",
       "      <td>0.306007</td>\n",
       "    </tr>\n",
       "    <tr>\n",
       "      <th>2</th>\n",
       "      <td>0.187032</td>\n",
       "      <td>903.760341</td>\n",
       "      <td>1.742682</td>\n",
       "      <td>869.764608</td>\n",
       "      <td>0.708241</td>\n",
       "      <td>213.736788</td>\n",
       "      <td>148.073272</td>\n",
       "      <td>260.017515</td>\n",
       "      <td>34.713570</td>\n",
       "      <td>0.448404</td>\n",
       "      <td>96.220856</td>\n",
       "      <td>176.590336</td>\n",
       "      <td>56.983415</td>\n",
       "      <td>0.304533</td>\n",
       "    </tr>\n",
       "    <tr>\n",
       "      <th>3</th>\n",
       "      <td>0.188132</td>\n",
       "      <td>903.937520</td>\n",
       "      <td>1.743930</td>\n",
       "      <td>869.924875</td>\n",
       "      <td>0.708573</td>\n",
       "      <td>212.926032</td>\n",
       "      <td>148.044773</td>\n",
       "      <td>259.335208</td>\n",
       "      <td>34.810400</td>\n",
       "      <td>0.447189</td>\n",
       "      <td>94.718950</td>\n",
       "      <td>175.752481</td>\n",
       "      <td>57.388913</td>\n",
       "      <td>0.303062</td>\n",
       "    </tr>\n",
       "    <tr>\n",
       "      <th>4</th>\n",
       "      <td>0.189232</td>\n",
       "      <td>904.114233</td>\n",
       "      <td>1.745099</td>\n",
       "      <td>870.075125</td>\n",
       "      <td>0.708906</td>\n",
       "      <td>212.124698</td>\n",
       "      <td>148.001472</td>\n",
       "      <td>258.652901</td>\n",
       "      <td>34.903858</td>\n",
       "      <td>0.445976</td>\n",
       "      <td>93.226465</td>\n",
       "      <td>174.916007</td>\n",
       "      <td>57.793081</td>\n",
       "      <td>0.301595</td>\n",
       "    </tr>\n",
       "    <tr>\n",
       "      <th>...</th>\n",
       "      <td>...</td>\n",
       "      <td>...</td>\n",
       "      <td>...</td>\n",
       "      <td>...</td>\n",
       "      <td>...</td>\n",
       "      <td>...</td>\n",
       "      <td>...</td>\n",
       "      <td>...</td>\n",
       "      <td>...</td>\n",
       "      <td>...</td>\n",
       "      <td>...</td>\n",
       "      <td>...</td>\n",
       "      <td>...</td>\n",
       "      <td>...</td>\n",
       "    </tr>\n",
       "    <tr>\n",
       "      <th>94</th>\n",
       "      <td>0.293632</td>\n",
       "      <td>918.743055</td>\n",
       "      <td>1.849588</td>\n",
       "      <td>883.185309</td>\n",
       "      <td>0.740391</td>\n",
       "      <td>163.447302</td>\n",
       "      <td>104.540232</td>\n",
       "      <td>194.019794</td>\n",
       "      <td>32.602817</td>\n",
       "      <td>0.332192</td>\n",
       "      <td>-21.047385</td>\n",
       "      <td>106.637950</td>\n",
       "      <td>-101.383345</td>\n",
       "      <td>0.182581</td>\n",
       "    </tr>\n",
       "    <tr>\n",
       "      <th>95</th>\n",
       "      <td>0.295032</td>\n",
       "      <td>918.911163</td>\n",
       "      <td>1.850814</td>\n",
       "      <td>883.335559</td>\n",
       "      <td>0.740814</td>\n",
       "      <td>163.027456</td>\n",
       "      <td>103.583363</td>\n",
       "      <td>193.151403</td>\n",
       "      <td>32.430805</td>\n",
       "      <td>0.330679</td>\n",
       "      <td>-22.346877</td>\n",
       "      <td>105.966486</td>\n",
       "      <td>-102.174295</td>\n",
       "      <td>0.181417</td>\n",
       "    </tr>\n",
       "    <tr>\n",
       "      <th>96</th>\n",
       "      <td>0.296432</td>\n",
       "      <td>919.078517</td>\n",
       "      <td>1.852040</td>\n",
       "      <td>883.485810</td>\n",
       "      <td>0.741237</td>\n",
       "      <td>162.611577</td>\n",
       "      <td>102.616918</td>\n",
       "      <td>192.283012</td>\n",
       "      <td>32.254197</td>\n",
       "      <td>0.329166</td>\n",
       "      <td>-23.642402</td>\n",
       "      <td>105.305247</td>\n",
       "      <td>-102.974246</td>\n",
       "      <td>0.180270</td>\n",
       "    </tr>\n",
       "    <tr>\n",
       "      <th>97</th>\n",
       "      <td>0.297832</td>\n",
       "      <td>919.245116</td>\n",
       "      <td>1.853253</td>\n",
       "      <td>883.634391</td>\n",
       "      <td>0.741660</td>\n",
       "      <td>162.199609</td>\n",
       "      <td>101.640760</td>\n",
       "      <td>191.414621</td>\n",
       "      <td>32.072903</td>\n",
       "      <td>0.327653</td>\n",
       "      <td>-24.934016</td>\n",
       "      <td>104.654428</td>\n",
       "      <td>-103.783333</td>\n",
       "      <td>0.179142</td>\n",
       "    </tr>\n",
       "    <tr>\n",
       "      <th>98</th>\n",
       "      <td>0.299232</td>\n",
       "      <td>919.410962</td>\n",
       "      <td>1.854480</td>\n",
       "      <td>883.784641</td>\n",
       "      <td>0.742083</td>\n",
       "      <td>161.791497</td>\n",
       "      <td>100.654743</td>\n",
       "      <td>190.546230</td>\n",
       "      <td>31.886829</td>\n",
       "      <td>0.326141</td>\n",
       "      <td>-26.221774</td>\n",
       "      <td>104.014223</td>\n",
       "      <td>-104.601694</td>\n",
       "      <td>0.178032</td>\n",
       "    </tr>\n",
       "  </tbody>\n",
       "</table>\n",
       "<p>99 rows × 14 columns</p>\n",
       "</div>"
      ],
      "text/plain": [
       "    r2[meter]   h2[kj/kg]   P2[bar]       T2[k]  rho2[kg/m^3]  C_theta2[m/s]  \\\n",
       "0    0.184832  903.404586  1.740203  869.445743      0.707576     215.387234   \n",
       "1    0.185932  903.582696  1.741436  869.604341      0.707908     214.557131   \n",
       "2    0.187032  903.760341  1.742682  869.764608      0.708241     213.736788   \n",
       "3    0.188132  903.937520  1.743930  869.924875      0.708573     212.926032   \n",
       "4    0.189232  904.114233  1.745099  870.075125      0.708906     212.124698   \n",
       "..        ...         ...       ...         ...           ...            ...   \n",
       "94   0.293632  918.743055  1.849588  883.185309      0.740391     163.447302   \n",
       "95   0.295032  918.911163  1.850814  883.335559      0.740814     163.027456   \n",
       "96   0.296432  919.078517  1.852040  883.485810      0.741237     162.611577   \n",
       "97   0.297832  919.245116  1.853253  883.634391      0.741660     162.199609   \n",
       "98   0.299232  919.410962  1.854480  883.784641      0.742083     161.791497   \n",
       "\n",
       "      Cm2[m/s]     C2[m/s]  alpha2[degree]        M2  W_theta2[m/s]  \\\n",
       "0   148.084292  261.382130       34.509529  0.450835      99.253602   \n",
       "1   148.086579  260.699823       34.613302  0.449620      97.732350   \n",
       "2   148.073272  260.017515       34.713570  0.448404      96.220856   \n",
       "3   148.044773  259.335208       34.810400  0.447189      94.718950   \n",
       "4   148.001472  258.652901       34.903858  0.445976      93.226465   \n",
       "..         ...         ...             ...       ...            ...   \n",
       "94  104.540232  194.019794       32.602817  0.332192     -21.047385   \n",
       "95  103.583363  193.151403       32.430805  0.330679     -22.346877   \n",
       "96  102.616918  192.283012       32.254197  0.329166     -23.642402   \n",
       "97  101.640760  191.414621       32.072903  0.327653     -24.934016   \n",
       "98  100.654743  190.546230       31.886829  0.326141     -26.221774   \n",
       "\n",
       "       W2[m/s]  Beta2[degree]      M_w2  \n",
       "0   178.270118      56.168002  0.307483  \n",
       "1   177.429555      56.576481  0.306007  \n",
       "2   176.590336      56.983415  0.304533  \n",
       "3   175.752481      57.388913  0.303062  \n",
       "4   174.916007      57.793081  0.301595  \n",
       "..         ...            ...       ...  \n",
       "94  106.637950    -101.383345  0.182581  \n",
       "95  105.966486    -102.174295  0.181417  \n",
       "96  105.305247    -102.974246  0.180270  \n",
       "97  104.654428    -103.783333  0.179142  \n",
       "98  104.014223    -104.601694  0.178032  \n",
       "\n",
       "[99 rows x 14 columns]"
      ]
     },
     "execution_count": 99,
     "metadata": {},
     "output_type": "execute_result"
    }
   ],
   "source": [
    "pd.DataFrame(dic2)"
   ]
  },
  {
   "cell_type": "markdown",
   "id": "7c7d5da7-dc72-4969-b284-1417d901796d",
   "metadata": {},
   "source": [
    "### Constant Nozzle Angle Vortex"
   ]
  },
  {
   "cell_type": "code",
   "execution_count": 100,
   "id": "aa2adfa6-f37b-4ded-931d-e4a573847a10",
   "metadata": {},
   "outputs": [],
   "source": [
    "r2_CNAV, h2_CNAV, s2_CNAV, P2_CNAV, T2_CNAV, rho2_CNAV, C_theta2_CNAV, Cm2_CNAV, alpha2_CNAV, M2_CNAV, h_blade2_CNAV = Specifications2(\n",
    "    m, C2_c, alpha2_c, r_c, h02_c, n, R, R_c, psi_c, U_c,\n",
    "    omega, C_theta2_c, Cm1_c, rho1_c, r1, h1_c, h2_c,\n",
    "    s2_c, P2_c, T2_c, rho2_c, Cm2_c, M2_c, 'CNAV'\n",
    ")"
   ]
  },
  {
   "cell_type": "code",
   "execution_count": 101,
   "id": "992d89bf-038f-4334-9715-8a248e551e1d",
   "metadata": {},
   "outputs": [],
   "source": [
    "dr_tip_stator_CNAV = r2_CNAV[-1]-r1[-1]\n",
    "dr_hub_stator_CNAV = r1[0]-r2_CNAV[0]"
   ]
  },
  {
   "cell_type": "code",
   "execution_count": 102,
   "id": "182db191-322a-4e09-a318-b3b735068ee5",
   "metadata": {},
   "outputs": [],
   "source": [
    "C2_CNAV = (C_theta2_CNAV**2+Cm2_CNAV**2)**0.5\n",
    "W_theta2_CNAV = C_theta2_CNAV-r2_CNAV*omega\n",
    "W2_CNAV = (W_theta2_CNAV**2+Cm2_CNAV**2)**0.5\n",
    "Beta2_CNAV = np.array([math.degrees(math.acos(item)) if item > 0 else -math.degrees(math.acos(item)) for item in (W_theta2_CNAV/W2_CNAV)])\n",
    "M_w2_CNAV = W2_EV/(C2_CNAV/M2_CNAV)"
   ]
  },
  {
   "cell_type": "code",
   "execution_count": 103,
   "id": "df204b8d-7e74-4225-9ef1-b653f695cb40",
   "metadata": {},
   "outputs": [],
   "source": [
    "dic3 = {\n",
    "    'r2[meter]'      : r2_CNAV,\n",
    "    'h2[kj/kg]'      : h2_CNAV,         \n",
    "    'P2[bar]'        : P2_CNAV,      \n",
    "    'T2[k]'          : T2_CNAV,    \n",
    "    'rho2[kg/m^3]'   : rho2_CNAV,           \n",
    "    'C_theta2[m/s]'  : C_theta2_CNAV,            \n",
    "    'Cm2[m/s]'       : Cm2_CNAV,\n",
    "    'C2[m/s]'        : C2_CNAV,\n",
    "    'alpha2[degree]' : alpha2_CNAV,\n",
    "    'M2'             : M2_CNAV,\n",
    "    'W_theta2[m/s]'  : W_theta2_CNAV,\n",
    "    'W2[m/s]'        : W2_CNAV,\n",
    "    'Beta2[degree]'  : Beta2_CNAV,\n",
    "    'M_w2'           : M_w2_CNAV,\n",
    "}"
   ]
  },
  {
   "cell_type": "code",
   "execution_count": 104,
   "id": "da5729c7-9b4a-42a8-9235-4fa5e4c78884",
   "metadata": {},
   "outputs": [
    {
     "data": {
      "text/html": [
       "<div>\n",
       "<style scoped>\n",
       "    .dataframe tbody tr th:only-of-type {\n",
       "        vertical-align: middle;\n",
       "    }\n",
       "\n",
       "    .dataframe tbody tr th {\n",
       "        vertical-align: top;\n",
       "    }\n",
       "\n",
       "    .dataframe thead th {\n",
       "        text-align: right;\n",
       "    }\n",
       "</style>\n",
       "<table border=\"1\" class=\"dataframe\">\n",
       "  <thead>\n",
       "    <tr style=\"text-align: right;\">\n",
       "      <th></th>\n",
       "      <th>r2[meter]</th>\n",
       "      <th>h2[kj/kg]</th>\n",
       "      <th>P2[bar]</th>\n",
       "      <th>T2[k]</th>\n",
       "      <th>rho2[kg/m^3]</th>\n",
       "      <th>C_theta2[m/s]</th>\n",
       "      <th>Cm2[m/s]</th>\n",
       "      <th>C2[m/s]</th>\n",
       "      <th>alpha2[degree]</th>\n",
       "      <th>M2</th>\n",
       "      <th>W_theta2[m/s]</th>\n",
       "      <th>W2[m/s]</th>\n",
       "      <th>Beta2[degree]</th>\n",
       "      <th>M_w2</th>\n",
       "    </tr>\n",
       "  </thead>\n",
       "  <tbody>\n",
       "    <tr>\n",
       "      <th>0</th>\n",
       "      <td>0.184832</td>\n",
       "      <td>903.404586</td>\n",
       "      <td>1.740203</td>\n",
       "      <td>869.445743</td>\n",
       "      <td>0.707576</td>\n",
       "      <td>216.895121</td>\n",
       "      <td>145.866804</td>\n",
       "      <td>261.382130</td>\n",
       "      <td>33.921711</td>\n",
       "      <td>0.450835</td>\n",
       "      <td>100.761489</td>\n",
       "      <td>177.285087</td>\n",
       "      <td>55.364161</td>\n",
       "      <td>0.307483</td>\n",
       "    </tr>\n",
       "    <tr>\n",
       "      <th>1</th>\n",
       "      <td>0.185932</td>\n",
       "      <td>903.582696</td>\n",
       "      <td>1.741436</td>\n",
       "      <td>869.604341</td>\n",
       "      <td>0.707908</td>\n",
       "      <td>216.061348</td>\n",
       "      <td>145.883143</td>\n",
       "      <td>260.699823</td>\n",
       "      <td>34.026952</td>\n",
       "      <td>0.449620</td>\n",
       "      <td>99.236566</td>\n",
       "      <td>176.436355</td>\n",
       "      <td>55.774623</td>\n",
       "      <td>0.306007</td>\n",
       "    </tr>\n",
       "    <tr>\n",
       "      <th>2</th>\n",
       "      <td>0.187032</td>\n",
       "      <td>903.760341</td>\n",
       "      <td>1.742682</td>\n",
       "      <td>869.764608</td>\n",
       "      <td>0.708241</td>\n",
       "      <td>215.235668</td>\n",
       "      <td>145.885968</td>\n",
       "      <td>260.017515</td>\n",
       "      <td>34.129279</td>\n",
       "      <td>0.448404</td>\n",
       "      <td>97.719736</td>\n",
       "      <td>175.590041</td>\n",
       "      <td>56.184384</td>\n",
       "      <td>0.304533</td>\n",
       "    </tr>\n",
       "    <tr>\n",
       "      <th>3</th>\n",
       "      <td>0.188132</td>\n",
       "      <td>903.937520</td>\n",
       "      <td>1.743930</td>\n",
       "      <td>869.924875</td>\n",
       "      <td>0.708573</td>\n",
       "      <td>214.417955</td>\n",
       "      <td>145.875601</td>\n",
       "      <td>259.335208</td>\n",
       "      <td>34.228745</td>\n",
       "      <td>0.447189</td>\n",
       "      <td>96.210872</td>\n",
       "      <td>174.746167</td>\n",
       "      <td>56.593530</td>\n",
       "      <td>0.303062</td>\n",
       "    </tr>\n",
       "    <tr>\n",
       "      <th>4</th>\n",
       "      <td>0.189232</td>\n",
       "      <td>904.114233</td>\n",
       "      <td>1.745099</td>\n",
       "      <td>870.075125</td>\n",
       "      <td>0.708906</td>\n",
       "      <td>213.608086</td>\n",
       "      <td>145.852353</td>\n",
       "      <td>258.652901</td>\n",
       "      <td>34.325399</td>\n",
       "      <td>0.445976</td>\n",
       "      <td>94.709853</td>\n",
       "      <td>173.904759</td>\n",
       "      <td>57.002148</td>\n",
       "      <td>0.301595</td>\n",
       "    </tr>\n",
       "    <tr>\n",
       "      <th>...</th>\n",
       "      <td>...</td>\n",
       "      <td>...</td>\n",
       "      <td>...</td>\n",
       "      <td>...</td>\n",
       "      <td>...</td>\n",
       "      <td>...</td>\n",
       "      <td>...</td>\n",
       "      <td>...</td>\n",
       "      <td>...</td>\n",
       "      <td>...</td>\n",
       "      <td>...</td>\n",
       "      <td>...</td>\n",
       "      <td>...</td>\n",
       "      <td>...</td>\n",
       "    </tr>\n",
       "    <tr>\n",
       "      <th>94</th>\n",
       "      <td>0.292832</td>\n",
       "      <td>918.646654</td>\n",
       "      <td>1.848854</td>\n",
       "      <td>883.095159</td>\n",
       "      <td>0.740149</td>\n",
       "      <td>160.958097</td>\n",
       "      <td>109.219834</td>\n",
       "      <td>194.516018</td>\n",
       "      <td>34.159273</td>\n",
       "      <td>0.333057</td>\n",
       "      <td>-23.033936</td>\n",
       "      <td>111.622284</td>\n",
       "      <td>-101.908893</td>\n",
       "      <td>0.182589</td>\n",
       "    </tr>\n",
       "    <tr>\n",
       "      <th>95</th>\n",
       "      <td>0.294132</td>\n",
       "      <td>918.803180</td>\n",
       "      <td>1.849997</td>\n",
       "      <td>883.235392</td>\n",
       "      <td>0.740542</td>\n",
       "      <td>160.495566</td>\n",
       "      <td>108.464757</td>\n",
       "      <td>193.709655</td>\n",
       "      <td>34.051282</td>\n",
       "      <td>0.331652</td>\n",
       "      <td>-24.313281</td>\n",
       "      <td>111.156373</td>\n",
       "      <td>-102.634476</td>\n",
       "      <td>0.181426</td>\n",
       "    </tr>\n",
       "    <tr>\n",
       "      <th>96</th>\n",
       "      <td>0.295432</td>\n",
       "      <td>918.959055</td>\n",
       "      <td>1.851141</td>\n",
       "      <td>883.375626</td>\n",
       "      <td>0.740935</td>\n",
       "      <td>160.036396</td>\n",
       "      <td>107.703444</td>\n",
       "      <td>192.903291</td>\n",
       "      <td>33.940295</td>\n",
       "      <td>0.330247</td>\n",
       "      <td>-25.589265</td>\n",
       "      <td>110.701591</td>\n",
       "      <td>-103.365101</td>\n",
       "      <td>0.180281</td>\n",
       "    </tr>\n",
       "    <tr>\n",
       "      <th>97</th>\n",
       "      <td>0.296732</td>\n",
       "      <td>919.114280</td>\n",
       "      <td>1.852272</td>\n",
       "      <td>883.514190</td>\n",
       "      <td>0.741328</td>\n",
       "      <td>159.580548</td>\n",
       "      <td>106.935863</td>\n",
       "      <td>192.096928</td>\n",
       "      <td>33.826272</td>\n",
       "      <td>0.328842</td>\n",
       "      <td>-26.861927</td>\n",
       "      <td>110.258069</td>\n",
       "      <td>-104.100754</td>\n",
       "      <td>0.179153</td>\n",
       "    </tr>\n",
       "    <tr>\n",
       "      <th>98</th>\n",
       "      <td>0.298032</td>\n",
       "      <td>919.268855</td>\n",
       "      <td>1.853417</td>\n",
       "      <td>883.654424</td>\n",
       "      <td>0.741721</td>\n",
       "      <td>159.127983</td>\n",
       "      <td>106.161978</td>\n",
       "      <td>191.290565</td>\n",
       "      <td>33.709172</td>\n",
       "      <td>0.327437</td>\n",
       "      <td>-28.131306</td>\n",
       "      <td>109.825934</td>\n",
       "      <td>-104.841411</td>\n",
       "      <td>0.178044</td>\n",
       "    </tr>\n",
       "  </tbody>\n",
       "</table>\n",
       "<p>99 rows × 14 columns</p>\n",
       "</div>"
      ],
      "text/plain": [
       "    r2[meter]   h2[kj/kg]   P2[bar]       T2[k]  rho2[kg/m^3]  C_theta2[m/s]  \\\n",
       "0    0.184832  903.404586  1.740203  869.445743      0.707576     216.895121   \n",
       "1    0.185932  903.582696  1.741436  869.604341      0.707908     216.061348   \n",
       "2    0.187032  903.760341  1.742682  869.764608      0.708241     215.235668   \n",
       "3    0.188132  903.937520  1.743930  869.924875      0.708573     214.417955   \n",
       "4    0.189232  904.114233  1.745099  870.075125      0.708906     213.608086   \n",
       "..        ...         ...       ...         ...           ...            ...   \n",
       "94   0.292832  918.646654  1.848854  883.095159      0.740149     160.958097   \n",
       "95   0.294132  918.803180  1.849997  883.235392      0.740542     160.495566   \n",
       "96   0.295432  918.959055  1.851141  883.375626      0.740935     160.036396   \n",
       "97   0.296732  919.114280  1.852272  883.514190      0.741328     159.580548   \n",
       "98   0.298032  919.268855  1.853417  883.654424      0.741721     159.127983   \n",
       "\n",
       "      Cm2[m/s]     C2[m/s]  alpha2[degree]        M2  W_theta2[m/s]  \\\n",
       "0   145.866804  261.382130       33.921711  0.450835     100.761489   \n",
       "1   145.883143  260.699823       34.026952  0.449620      99.236566   \n",
       "2   145.885968  260.017515       34.129279  0.448404      97.719736   \n",
       "3   145.875601  259.335208       34.228745  0.447189      96.210872   \n",
       "4   145.852353  258.652901       34.325399  0.445976      94.709853   \n",
       "..         ...         ...             ...       ...            ...   \n",
       "94  109.219834  194.516018       34.159273  0.333057     -23.033936   \n",
       "95  108.464757  193.709655       34.051282  0.331652     -24.313281   \n",
       "96  107.703444  192.903291       33.940295  0.330247     -25.589265   \n",
       "97  106.935863  192.096928       33.826272  0.328842     -26.861927   \n",
       "98  106.161978  191.290565       33.709172  0.327437     -28.131306   \n",
       "\n",
       "       W2[m/s]  Beta2[degree]      M_w2  \n",
       "0   177.285087      55.364161  0.307483  \n",
       "1   176.436355      55.774623  0.306007  \n",
       "2   175.590041      56.184384  0.304533  \n",
       "3   174.746167      56.593530  0.303062  \n",
       "4   173.904759      57.002148  0.301595  \n",
       "..         ...            ...       ...  \n",
       "94  111.622284    -101.908893  0.182589  \n",
       "95  111.156373    -102.634476  0.181426  \n",
       "96  110.701591    -103.365101  0.180281  \n",
       "97  110.258069    -104.100754  0.179153  \n",
       "98  109.825934    -104.841411  0.178044  \n",
       "\n",
       "[99 rows x 14 columns]"
      ]
     },
     "execution_count": 104,
     "metadata": {},
     "output_type": "execute_result"
    }
   ],
   "source": [
    "pd.DataFrame(dic3)"
   ]
  },
  {
   "cell_type": "markdown",
   "id": "968b84bf-94e6-44b4-91f4-915b5f7a1604",
   "metadata": {},
   "source": [
    "## Section 3"
   ]
  },
  {
   "cell_type": "markdown",
   "id": "2bb85e6c-6722-465c-9de8-f147622b1cef",
   "metadata": {},
   "source": [
    "### Free Vortex"
   ]
  },
  {
   "cell_type": "code",
   "execution_count": 105,
   "id": "49336bda-b059-4f3d-9aec-0b40323edeb5",
   "metadata": {},
   "outputs": [],
   "source": [
    "stagger = 13            #degree\n",
    "b_x = c*math.cos(math.radians(stagger))\n",
    "delta_x = 0.25*b_x"
   ]
  },
  {
   "cell_type": "code",
   "execution_count": 106,
   "id": "49132e5a-b745-4230-a849-a11c4a354314",
   "metadata": {},
   "outputs": [],
   "source": [
    "r3_FV = 0.25*(r2_FV-r1)+r2_FV"
   ]
  },
  {
   "cell_type": "code",
   "execution_count": 107,
   "id": "9df140e0-24e3-4230-a802-ca54678f67c9",
   "metadata": {},
   "outputs": [],
   "source": [
    "h3_FV, s3_FV, P3_FV, T3_FV, rho3_FV = h2_FV, s2_FV, P2_FV, T2_FV, rho2_FV\n",
    "C_theta3_FV, Cm3_FV, alpha3_FV, M3_FV, h_blade3_FV = C_theta2_FV, Cm2_FV, alpha2_FV, M2_FV, r3_FV[-1]-r3_FV[0]"
   ]
  },
  {
   "cell_type": "code",
   "execution_count": 108,
   "id": "5b3c0bb8-0eca-4f4d-8656-925d02fef361",
   "metadata": {},
   "outputs": [],
   "source": [
    "dr_tip_mid_FV = r3_FV[-1]-r2_FV[-1]\n",
    "dr_hub_mid_FV = r2_FV[0]-r3_FV[0]"
   ]
  },
  {
   "cell_type": "markdown",
   "id": "31c06049-7612-46f1-bcdb-e3efa3735697",
   "metadata": {},
   "source": [
    "### Exponential Vortex"
   ]
  },
  {
   "cell_type": "code",
   "execution_count": 109,
   "id": "af159962-9c96-46ed-a922-ea6fec057e14",
   "metadata": {},
   "outputs": [],
   "source": [
    "r3_EV = 0.25*(r2_EV-r1)+r2_EV"
   ]
  },
  {
   "cell_type": "code",
   "execution_count": 110,
   "id": "f15d42f8-6558-4a3f-a956-cca4f2c0aa70",
   "metadata": {},
   "outputs": [],
   "source": [
    "h3_EV, s3_EV, P3_EV, T3_EV, rho3_EV = h2_EV, s2_EV, P2_EV, T2_EV, rho2_EV\n",
    "C_theta3_EV, Cm3_EV, alpha3_EV, M3_EV, h_blade3_EV = C_theta2_EV, Cm2_EV, alpha2_EV, M2_EV, h_blade2_EV"
   ]
  },
  {
   "cell_type": "code",
   "execution_count": 111,
   "id": "a100f077-6cd5-4803-a7d2-7f2a858e809a",
   "metadata": {},
   "outputs": [],
   "source": [
    "dr_tip_mid_EV = r3_EV[-1]-r2_EV[-1]\n",
    "dr_hub_mid_EV = r2_EV[0]-r3_EV[0]"
   ]
  },
  {
   "cell_type": "markdown",
   "id": "f38807f4-1dad-428b-80b2-f1e0c8f1b7e5",
   "metadata": {},
   "source": [
    "### Constant Nozzle Angle Vortex"
   ]
  },
  {
   "cell_type": "code",
   "execution_count": 112,
   "id": "02f36311-c13f-4198-bb3f-21aa60301aff",
   "metadata": {},
   "outputs": [],
   "source": [
    "r3_CNAV = 0.25*(r2_CNAV-r1)+r2_CNAV"
   ]
  },
  {
   "cell_type": "code",
   "execution_count": 113,
   "id": "bd986a43-cc1c-4403-92da-36f05eac0fe7",
   "metadata": {},
   "outputs": [],
   "source": [
    "h3_CNAV, s3_CNAV, P3_CNAV, T3_CNAV, rho3_CNAV = h2_CNAV, s2_CNAV, P2_CNAV, T2_CNAV, rho2_CNAV\n",
    "C_theta3_CNAV, Cm3_CNAV, alpha3_CNAV, M3_CNAV, h_blade3_CNAV = C_theta2_CNAV, Cm2_CNAV, alpha2_CNAV, M2_CNAV, h_blade2_CNAV"
   ]
  },
  {
   "cell_type": "code",
   "execution_count": 114,
   "id": "6736b704-3310-467c-8ff3-6ab0116070c0",
   "metadata": {},
   "outputs": [],
   "source": [
    "dr_tip_mid_CNAV = r3_CNAV[-1]-r2_CNAV[-1]\n",
    "dr_hub_mid_CNAV = r2_CNAV[0]-r3_CNAV[0]"
   ]
  },
  {
   "cell_type": "markdown",
   "id": "4bbc8cfd-9734-4596-b103-3eeafc74b288",
   "metadata": {},
   "source": [
    "## Section 4"
   ]
  },
  {
   "cell_type": "markdown",
   "id": "848bf0b2-f729-4751-aa2c-e59258258e98",
   "metadata": {},
   "source": [
    "## Free Vortex"
   ]
  },
  {
   "cell_type": "code",
   "execution_count": 115,
   "id": "56117e46-0e55-4184-9e30-4875511795b5",
   "metadata": {},
   "outputs": [],
   "source": [
    "r4_FV, h4_FV, h04_FV, s4_FV, P4_FV, T4_FV, rho4_FV, C_theta4_FV, Cm4_FV, alpha4_FV, M4_FV, h_blade4_FV = Specifications4(\n",
    "    Cm3_FV, rho3_FV, C_theta3_FV, m, C4_c, alpha4_c, r_c, n, R,\n",
    "    R_c, psi_c,U_c, omega, C_theta4_c, r3_FV, h3_c, h4_c,\n",
    "    h04_c, s4_c, P4_c, T4_c, rho4_c, Cm4_c, M4_c, 'FV'\n",
    ")"
   ]
  },
  {
   "cell_type": "code",
   "execution_count": 116,
   "id": "d37992b8-b16f-477d-ad9c-201e160c3018",
   "metadata": {},
   "outputs": [],
   "source": [
    "dr_tip_rotor_FV = r4_FV[-1]-r3_FV[-1]\n",
    "dr_hub_rotor_FV = r3_FV[0]-r4_FV[0]"
   ]
  },
  {
   "cell_type": "code",
   "execution_count": 117,
   "id": "b6a214a2-8d36-41ea-bd08-21b47895da07",
   "metadata": {},
   "outputs": [],
   "source": [
    "alpha4_FV = np.array([alpha4_FV[i] if C_theta4_FV[i] > 0 else -alpha4_FV[i]  for i in range(0, n)])\n",
    "C4_FV = (C_theta4_FV**2+Cm4_FV**2)**0.5\n",
    "W_theta4_FV = C_theta4_FV-r4_FV*omega\n",
    "W4_FV = (W_theta4_FV**2+Cm4_FV**2)**0.5\n",
    "Beta4_FV = np.array([math.degrees(math.acos(item)) if item > 0 else -math.degrees(math.acos(item))  for item in (W_theta4_FV/W4_FV)])\n",
    "M_w4_FV = W4_FV/(C4_FV/M4_FV)"
   ]
  },
  {
   "cell_type": "code",
   "execution_count": 118,
   "id": "d605205c-06c1-4d4a-bfbe-b0c9c915d2dd",
   "metadata": {},
   "outputs": [],
   "source": [
    "dic4 = {\n",
    "    'r4[meter]'      : r4_FV,\n",
    "    'h4[kj/kg]'      : h4_FV,         \n",
    "    'P4[bar]'        : P4_FV,      \n",
    "    'T4[k]'          : T4_FV,    \n",
    "    'rho4[kg/m^3]'   : rho4_FV,           \n",
    "    'C_theta4[m/s]'  : C_theta4_FV,            \n",
    "    'Cm4[m/s]'       : Cm4_FV,\n",
    "    'C4[m/s]'        : C4_FV,\n",
    "    'alpha4[degree]' : alpha4_FV,\n",
    "    'M4'             : M4_FV,\n",
    "    'W_theta4[m/s]'  : W_theta4_FV,\n",
    "    'W4[m/s]'        : W4_FV,\n",
    "    'Beta4[degree]'  : Beta4_FV,\n",
    "    'M_w4'           : M_w4_FV,\n",
    "}"
   ]
  },
  {
   "cell_type": "code",
   "execution_count": 119,
   "id": "2e25687c-fa27-4175-9582-0606bfb81689",
   "metadata": {},
   "outputs": [
    {
     "data": {
      "text/html": [
       "<div>\n",
       "<style scoped>\n",
       "    .dataframe tbody tr th:only-of-type {\n",
       "        vertical-align: middle;\n",
       "    }\n",
       "\n",
       "    .dataframe tbody tr th {\n",
       "        vertical-align: top;\n",
       "    }\n",
       "\n",
       "    .dataframe thead th {\n",
       "        text-align: right;\n",
       "    }\n",
       "</style>\n",
       "<table border=\"1\" class=\"dataframe\">\n",
       "  <thead>\n",
       "    <tr style=\"text-align: right;\">\n",
       "      <th></th>\n",
       "      <th>r4[meter]</th>\n",
       "      <th>h4[kj/kg]</th>\n",
       "      <th>P4[bar]</th>\n",
       "      <th>T4[k]</th>\n",
       "      <th>rho4[kg/m^3]</th>\n",
       "      <th>C_theta4[m/s]</th>\n",
       "      <th>Cm4[m/s]</th>\n",
       "      <th>C4[m/s]</th>\n",
       "      <th>alpha4[degree]</th>\n",
       "      <th>M4</th>\n",
       "      <th>W_theta4[m/s]</th>\n",
       "      <th>W4[m/s]</th>\n",
       "      <th>Beta4[degree]</th>\n",
       "      <th>M_w4</th>\n",
       "    </tr>\n",
       "  </thead>\n",
       "  <tbody>\n",
       "    <tr>\n",
       "      <th>0</th>\n",
       "      <td>0.174232</td>\n",
       "      <td>893.992135</td>\n",
       "      <td>1.665422</td>\n",
       "      <td>860.984975</td>\n",
       "      <td>0.684790</td>\n",
       "      <td>-46.217561</td>\n",
       "      <td>140.568336</td>\n",
       "      <td>147.971349</td>\n",
       "      <td>-108.200384</td>\n",
       "      <td>0.256398</td>\n",
       "      <td>-155.691016</td>\n",
       "      <td>209.759742</td>\n",
       "      <td>-137.922150</td>\n",
       "      <td>0.363462</td>\n",
       "    </tr>\n",
       "    <tr>\n",
       "      <th>1</th>\n",
       "      <td>0.175532</td>\n",
       "      <td>894.034220</td>\n",
       "      <td>1.665722</td>\n",
       "      <td>861.025042</td>\n",
       "      <td>0.684803</td>\n",
       "      <td>-45.875467</td>\n",
       "      <td>140.380882</td>\n",
       "      <td>147.686663</td>\n",
       "      <td>-108.097021</td>\n",
       "      <td>0.255899</td>\n",
       "      <td>-156.165736</td>\n",
       "      <td>209.986973</td>\n",
       "      <td>-138.046917</td>\n",
       "      <td>0.363848</td>\n",
       "    </tr>\n",
       "    <tr>\n",
       "      <th>2</th>\n",
       "      <td>0.176832</td>\n",
       "      <td>894.075197</td>\n",
       "      <td>1.666023</td>\n",
       "      <td>861.065109</td>\n",
       "      <td>0.684815</td>\n",
       "      <td>-45.538400</td>\n",
       "      <td>140.198605</td>\n",
       "      <td>147.408937</td>\n",
       "      <td>-107.994496</td>\n",
       "      <td>0.255412</td>\n",
       "      <td>-156.645483</td>\n",
       "      <td>210.222397</td>\n",
       "      <td>-138.171275</td>\n",
       "      <td>0.364248</td>\n",
       "    </tr>\n",
       "    <tr>\n",
       "      <th>3</th>\n",
       "      <td>0.178132</td>\n",
       "      <td>894.209504</td>\n",
       "      <td>1.666924</td>\n",
       "      <td>861.185309</td>\n",
       "      <td>0.684828</td>\n",
       "      <td>-45.206249</td>\n",
       "      <td>139.345530</td>\n",
       "      <td>146.494989</td>\n",
       "      <td>-107.974015</td>\n",
       "      <td>0.253812</td>\n",
       "      <td>-157.130146</td>\n",
       "      <td>210.016808</td>\n",
       "      <td>-138.432875</td>\n",
       "      <td>0.363867</td>\n",
       "    </tr>\n",
       "    <tr>\n",
       "      <th>4</th>\n",
       "      <td>0.179432</td>\n",
       "      <td>894.243925</td>\n",
       "      <td>1.667150</td>\n",
       "      <td>861.215359</td>\n",
       "      <td>0.684841</td>\n",
       "      <td>-44.878910</td>\n",
       "      <td>139.204252</td>\n",
       "      <td>146.259838</td>\n",
       "      <td>-107.869120</td>\n",
       "      <td>0.253400</td>\n",
       "      <td>-157.619621</td>\n",
       "      <td>210.289725</td>\n",
       "      <td>-138.550160</td>\n",
       "      <td>0.364334</td>\n",
       "    </tr>\n",
       "    <tr>\n",
       "      <th>...</th>\n",
       "      <td>...</td>\n",
       "      <td>...</td>\n",
       "      <td>...</td>\n",
       "      <td>...</td>\n",
       "      <td>...</td>\n",
       "      <td>...</td>\n",
       "      <td>...</td>\n",
       "      <td>...</td>\n",
       "      <td>...</td>\n",
       "      <td>...</td>\n",
       "      <td>...</td>\n",
       "      <td>...</td>\n",
       "      <td>...</td>\n",
       "      <td>...</td>\n",
       "    </tr>\n",
       "    <tr>\n",
       "      <th>94</th>\n",
       "      <td>0.296832</td>\n",
       "      <td>895.732244</td>\n",
       "      <td>1.677221</td>\n",
       "      <td>862.554257</td>\n",
       "      <td>0.685990</td>\n",
       "      <td>-27.153147</td>\n",
       "      <td>132.958670</td>\n",
       "      <td>135.702989</td>\n",
       "      <td>-101.542367</td>\n",
       "      <td>0.234939</td>\n",
       "      <td>-213.658454</td>\n",
       "      <td>251.650438</td>\n",
       "      <td>-148.106186</td>\n",
       "      <td>0.435675</td>\n",
       "    </tr>\n",
       "    <tr>\n",
       "      <th>95</th>\n",
       "      <td>0.298132</td>\n",
       "      <td>895.741064</td>\n",
       "      <td>1.677296</td>\n",
       "      <td>862.564274</td>\n",
       "      <td>0.686003</td>\n",
       "      <td>-27.034707</td>\n",
       "      <td>132.916466</td>\n",
       "      <td>135.637983</td>\n",
       "      <td>-101.496915</td>\n",
       "      <td>0.234825</td>\n",
       "      <td>-214.356828</td>\n",
       "      <td>252.221404</td>\n",
       "      <td>-148.198146</td>\n",
       "      <td>0.436661</td>\n",
       "    </tr>\n",
       "    <tr>\n",
       "      <th>96</th>\n",
       "      <td>0.299432</td>\n",
       "      <td>895.749827</td>\n",
       "      <td>1.677296</td>\n",
       "      <td>862.564274</td>\n",
       "      <td>0.686016</td>\n",
       "      <td>-26.917295</td>\n",
       "      <td>132.874360</td>\n",
       "      <td>135.573362</td>\n",
       "      <td>-101.451837</td>\n",
       "      <td>0.234713</td>\n",
       "      <td>-215.056230</td>\n",
       "      <td>252.793943</td>\n",
       "      <td>-148.289794</td>\n",
       "      <td>0.437653</td>\n",
       "    </tr>\n",
       "    <tr>\n",
       "      <th>97</th>\n",
       "      <td>0.300732</td>\n",
       "      <td>895.758534</td>\n",
       "      <td>1.677372</td>\n",
       "      <td>862.574290</td>\n",
       "      <td>0.686029</td>\n",
       "      <td>-26.800899</td>\n",
       "      <td>132.832350</td>\n",
       "      <td>135.509120</td>\n",
       "      <td>-101.407129</td>\n",
       "      <td>0.234601</td>\n",
       "      <td>-215.756648</td>\n",
       "      <td>253.368042</td>\n",
       "      <td>-148.381129</td>\n",
       "      <td>0.438644</td>\n",
       "    </tr>\n",
       "    <tr>\n",
       "      <th>98</th>\n",
       "      <td>0.302032</td>\n",
       "      <td>895.767187</td>\n",
       "      <td>1.677447</td>\n",
       "      <td>862.584307</td>\n",
       "      <td>0.686041</td>\n",
       "      <td>-26.685505</td>\n",
       "      <td>132.790434</td>\n",
       "      <td>135.445249</td>\n",
       "      <td>-101.362786</td>\n",
       "      <td>0.234489</td>\n",
       "      <td>-216.458068</td>\n",
       "      <td>253.943684</td>\n",
       "      <td>-148.472152</td>\n",
       "      <td>0.439638</td>\n",
       "    </tr>\n",
       "  </tbody>\n",
       "</table>\n",
       "<p>99 rows × 14 columns</p>\n",
       "</div>"
      ],
      "text/plain": [
       "    r4[meter]   h4[kj/kg]   P4[bar]       T4[k]  rho4[kg/m^3]  C_theta4[m/s]  \\\n",
       "0    0.174232  893.992135  1.665422  860.984975      0.684790     -46.217561   \n",
       "1    0.175532  894.034220  1.665722  861.025042      0.684803     -45.875467   \n",
       "2    0.176832  894.075197  1.666023  861.065109      0.684815     -45.538400   \n",
       "3    0.178132  894.209504  1.666924  861.185309      0.684828     -45.206249   \n",
       "4    0.179432  894.243925  1.667150  861.215359      0.684841     -44.878910   \n",
       "..        ...         ...       ...         ...           ...            ...   \n",
       "94   0.296832  895.732244  1.677221  862.554257      0.685990     -27.153147   \n",
       "95   0.298132  895.741064  1.677296  862.564274      0.686003     -27.034707   \n",
       "96   0.299432  895.749827  1.677296  862.564274      0.686016     -26.917295   \n",
       "97   0.300732  895.758534  1.677372  862.574290      0.686029     -26.800899   \n",
       "98   0.302032  895.767187  1.677447  862.584307      0.686041     -26.685505   \n",
       "\n",
       "      Cm4[m/s]     C4[m/s]  alpha4[degree]        M4  W_theta4[m/s]  \\\n",
       "0   140.568336  147.971349     -108.200384  0.256398    -155.691016   \n",
       "1   140.380882  147.686663     -108.097021  0.255899    -156.165736   \n",
       "2   140.198605  147.408937     -107.994496  0.255412    -156.645483   \n",
       "3   139.345530  146.494989     -107.974015  0.253812    -157.130146   \n",
       "4   139.204252  146.259838     -107.869120  0.253400    -157.619621   \n",
       "..         ...         ...             ...       ...            ...   \n",
       "94  132.958670  135.702989     -101.542367  0.234939    -213.658454   \n",
       "95  132.916466  135.637983     -101.496915  0.234825    -214.356828   \n",
       "96  132.874360  135.573362     -101.451837  0.234713    -215.056230   \n",
       "97  132.832350  135.509120     -101.407129  0.234601    -215.756648   \n",
       "98  132.790434  135.445249     -101.362786  0.234489    -216.458068   \n",
       "\n",
       "       W4[m/s]  Beta4[degree]      M_w4  \n",
       "0   209.759742    -137.922150  0.363462  \n",
       "1   209.986973    -138.046917  0.363848  \n",
       "2   210.222397    -138.171275  0.364248  \n",
       "3   210.016808    -138.432875  0.363867  \n",
       "4   210.289725    -138.550160  0.364334  \n",
       "..         ...            ...       ...  \n",
       "94  251.650438    -148.106186  0.435675  \n",
       "95  252.221404    -148.198146  0.436661  \n",
       "96  252.793943    -148.289794  0.437653  \n",
       "97  253.368042    -148.381129  0.438644  \n",
       "98  253.943684    -148.472152  0.439638  \n",
       "\n",
       "[99 rows x 14 columns]"
      ]
     },
     "execution_count": 119,
     "metadata": {},
     "output_type": "execute_result"
    }
   ],
   "source": [
    "pd.DataFrame(dic4)"
   ]
  },
  {
   "cell_type": "markdown",
   "id": "15b267fc-8cec-45f1-8b71-380d725fa701",
   "metadata": {},
   "source": [
    "### Exponential Vortex"
   ]
  },
  {
   "cell_type": "code",
   "execution_count": 120,
   "id": "0eb3fbd8-4842-494a-8400-fd6c43c7ebf8",
   "metadata": {},
   "outputs": [],
   "source": [
    "r4_EV, h4_EV, h04_EV, s4_EV, P4_EV, T4_EV, rho4_EV, C_theta4_EV, Cm4_EV, alpha4_EV, M4_EV, h_blade4_EV = Specifications4(\n",
    "    Cm3_EV, rho3_EV, C_theta3_EV, m, C4_c, alpha4_c, r_c, n, R,\n",
    "    R_c, psi_c,U_c, omega, C_theta4_c, r3_EV, h3_c, h4_c,\n",
    "    h04_c, s4_c, P4_c, T4_c, rho4_c, Cm4_c, M4_c, 'EV'\n",
    ")"
   ]
  },
  {
   "cell_type": "code",
   "execution_count": 121,
   "id": "b848dd4b-e4cb-4fa6-87a8-a2c99348030c",
   "metadata": {},
   "outputs": [],
   "source": [
    "dr_tip_rotor_EV = r4_EV[-1]-r3_EV[-1]\n",
    "dr_hub_rotor_EV = r3_EV[0]-r4_EV[0]"
   ]
  },
  {
   "cell_type": "code",
   "execution_count": 122,
   "id": "5e0ed9f3-54b8-43d1-8c23-b3fdd43d135e",
   "metadata": {},
   "outputs": [],
   "source": [
    "alpha4_EV = np.array([alpha4_EV[i] if C_theta4_EV[i] > 0 else -alpha4_EV[i]  for i in range(0, n)])\n",
    "C4_EV = (C_theta4_EV**2+Cm4_EV**2)**0.5\n",
    "W_theta4_EV = C_theta4_EV-r4_EV*omega\n",
    "W4_EV = (W_theta4_EV**2+Cm4_EV**2)**0.5\n",
    "Beta4_EV = np.array([math.degrees(math.acos(item)) if item > 0 else -math.degrees(math.acos(item))  for item in (W_theta4_EV/W4_EV)])\n",
    "M_w4_EV = W4_EV/(C4_EV/M4_EV)"
   ]
  },
  {
   "cell_type": "code",
   "execution_count": 123,
   "id": "03d200bb-bb90-4ecd-900f-a777c8595052",
   "metadata": {},
   "outputs": [],
   "source": [
    "dic5 = {\n",
    "    'r4[meter]'      : r4_EV,\n",
    "    'h4[kj/kg]'      : h4_EV,         \n",
    "    'P4[bar]'        : P4_EV,      \n",
    "    'T4[k]'          : T4_EV,    \n",
    "    'rho4[kg/m^3]'   : rho4_EV,           \n",
    "    'C_theta4[m/s]'  : C_theta4_EV,            \n",
    "    'Cm4[m/s]'       : Cm4_EV,\n",
    "    'C4[m/s]'        : C4_EV,\n",
    "    'alpha4[degree]' : alpha4_EV,\n",
    "    'M4'             : M4_EV,\n",
    "    'W_theta4[m/s]'  : W_theta4_EV,\n",
    "    'W4[m/s]'        : W4_FV,\n",
    "    'Beta4[degree]'  : Beta4_EV,\n",
    "    'M_w4'           : M_w4_EV,\n",
    "}"
   ]
  },
  {
   "cell_type": "code",
   "execution_count": 124,
   "id": "b0d232db-3f00-4b38-87b3-cbbc09355731",
   "metadata": {},
   "outputs": [
    {
     "data": {
      "text/html": [
       "<div>\n",
       "<style scoped>\n",
       "    .dataframe tbody tr th:only-of-type {\n",
       "        vertical-align: middle;\n",
       "    }\n",
       "\n",
       "    .dataframe tbody tr th {\n",
       "        vertical-align: top;\n",
       "    }\n",
       "\n",
       "    .dataframe thead th {\n",
       "        text-align: right;\n",
       "    }\n",
       "</style>\n",
       "<table border=\"1\" class=\"dataframe\">\n",
       "  <thead>\n",
       "    <tr style=\"text-align: right;\">\n",
       "      <th></th>\n",
       "      <th>r4[meter]</th>\n",
       "      <th>h4[kj/kg]</th>\n",
       "      <th>P4[bar]</th>\n",
       "      <th>T4[k]</th>\n",
       "      <th>rho4[kg/m^3]</th>\n",
       "      <th>C_theta4[m/s]</th>\n",
       "      <th>Cm4[m/s]</th>\n",
       "      <th>C4[m/s]</th>\n",
       "      <th>alpha4[degree]</th>\n",
       "      <th>M4</th>\n",
       "      <th>W_theta4[m/s]</th>\n",
       "      <th>W4[m/s]</th>\n",
       "      <th>Beta4[degree]</th>\n",
       "      <th>M_w4</th>\n",
       "    </tr>\n",
       "  </thead>\n",
       "  <tbody>\n",
       "    <tr>\n",
       "      <th>0</th>\n",
       "      <td>0.170032</td>\n",
       "      <td>894.729706</td>\n",
       "      <td>1.670447</td>\n",
       "      <td>861.654424</td>\n",
       "      <td>0.684749</td>\n",
       "      <td>-77.599669</td>\n",
       "      <td>119.994458</td>\n",
       "      <td>142.899890</td>\n",
       "      <td>-122.890497</td>\n",
       "      <td>0.247520</td>\n",
       "      <td>-184.434186</td>\n",
       "      <td>209.759742</td>\n",
       "      <td>-146.951628</td>\n",
       "      <td>0.381124</td>\n",
       "    </tr>\n",
       "    <tr>\n",
       "      <th>1</th>\n",
       "      <td>0.171632</td>\n",
       "      <td>894.744468</td>\n",
       "      <td>1.670522</td>\n",
       "      <td>861.664441</td>\n",
       "      <td>0.684764</td>\n",
       "      <td>-76.177925</td>\n",
       "      <td>120.779873</td>\n",
       "      <td>142.796547</td>\n",
       "      <td>-122.240329</td>\n",
       "      <td>0.247339</td>\n",
       "      <td>-184.017752</td>\n",
       "      <td>209.986973</td>\n",
       "      <td>-146.721146</td>\n",
       "      <td>0.381262</td>\n",
       "    </tr>\n",
       "    <tr>\n",
       "      <th>2</th>\n",
       "      <td>0.173232</td>\n",
       "      <td>894.759071</td>\n",
       "      <td>1.670598</td>\n",
       "      <td>861.674457</td>\n",
       "      <td>0.684780</td>\n",
       "      <td>-74.782429</td>\n",
       "      <td>121.528742</td>\n",
       "      <td>142.694242</td>\n",
       "      <td>-121.605967</td>\n",
       "      <td>0.247161</td>\n",
       "      <td>-183.627565</td>\n",
       "      <td>210.222397</td>\n",
       "      <td>-146.502537</td>\n",
       "      <td>0.381410</td>\n",
       "    </tr>\n",
       "    <tr>\n",
       "      <th>3</th>\n",
       "      <td>0.174832</td>\n",
       "      <td>894.773520</td>\n",
       "      <td>1.670748</td>\n",
       "      <td>861.694491</td>\n",
       "      <td>0.684796</td>\n",
       "      <td>-73.412461</td>\n",
       "      <td>122.243035</td>\n",
       "      <td>142.592948</td>\n",
       "      <td>-120.986717</td>\n",
       "      <td>0.246983</td>\n",
       "      <td>-183.262906</td>\n",
       "      <td>210.016808</td>\n",
       "      <td>-146.295268</td>\n",
       "      <td>0.381564</td>\n",
       "    </tr>\n",
       "    <tr>\n",
       "      <th>4</th>\n",
       "      <td>0.176332</td>\n",
       "      <td>894.787054</td>\n",
       "      <td>1.670824</td>\n",
       "      <td>861.704508</td>\n",
       "      <td>0.684811</td>\n",
       "      <td>-72.150682</td>\n",
       "      <td>122.881899</td>\n",
       "      <td>142.498007</td>\n",
       "      <td>-120.419525</td>\n",
       "      <td>0.246817</td>\n",
       "      <td>-182.943605</td>\n",
       "      <td>210.289725</td>\n",
       "      <td>-146.111027</td>\n",
       "      <td>0.381718</td>\n",
       "    </tr>\n",
       "    <tr>\n",
       "      <th>...</th>\n",
       "      <td>...</td>\n",
       "      <td>...</td>\n",
       "      <td>...</td>\n",
       "      <td>...</td>\n",
       "      <td>...</td>\n",
       "      <td>...</td>\n",
       "      <td>...</td>\n",
       "      <td>...</td>\n",
       "      <td>...</td>\n",
       "      <td>...</td>\n",
       "      <td>...</td>\n",
       "      <td>...</td>\n",
       "      <td>...</td>\n",
       "      <td>...</td>\n",
       "    </tr>\n",
       "    <tr>\n",
       "      <th>94</th>\n",
       "      <td>0.296732</td>\n",
       "      <td>895.721684</td>\n",
       "      <td>1.677145</td>\n",
       "      <td>862.544240</td>\n",
       "      <td>0.685989</td>\n",
       "      <td>-12.522971</td>\n",
       "      <td>135.202059</td>\n",
       "      <td>135.780785</td>\n",
       "      <td>-95.291872</td>\n",
       "      <td>0.235075</td>\n",
       "      <td>-198.965445</td>\n",
       "      <td>251.650438</td>\n",
       "      <td>-145.802899</td>\n",
       "      <td>0.416469</td>\n",
       "    </tr>\n",
       "    <tr>\n",
       "      <th>95</th>\n",
       "      <td>0.298032</td>\n",
       "      <td>895.730138</td>\n",
       "      <td>1.677221</td>\n",
       "      <td>862.554257</td>\n",
       "      <td>0.686002</td>\n",
       "      <td>-12.141072</td>\n",
       "      <td>135.174362</td>\n",
       "      <td>135.718510</td>\n",
       "      <td>-95.132413</td>\n",
       "      <td>0.234966</td>\n",
       "      <td>-199.400361</td>\n",
       "      <td>252.221404</td>\n",
       "      <td>-145.866486</td>\n",
       "      <td>0.417063</td>\n",
       "    </tr>\n",
       "    <tr>\n",
       "      <th>96</th>\n",
       "      <td>0.299332</td>\n",
       "      <td>895.738534</td>\n",
       "      <td>1.677221</td>\n",
       "      <td>862.554257</td>\n",
       "      <td>0.686015</td>\n",
       "      <td>-11.762492</td>\n",
       "      <td>135.145720</td>\n",
       "      <td>135.656632</td>\n",
       "      <td>-94.974239</td>\n",
       "      <td>0.234858</td>\n",
       "      <td>-199.838595</td>\n",
       "      <td>252.793943</td>\n",
       "      <td>-145.930518</td>\n",
       "      <td>0.417663</td>\n",
       "    </tr>\n",
       "    <tr>\n",
       "      <th>97</th>\n",
       "      <td>0.300632</td>\n",
       "      <td>895.746874</td>\n",
       "      <td>1.677296</td>\n",
       "      <td>862.564274</td>\n",
       "      <td>0.686028</td>\n",
       "      <td>-11.387188</td>\n",
       "      <td>135.116152</td>\n",
       "      <td>135.595142</td>\n",
       "      <td>-94.817334</td>\n",
       "      <td>0.234751</td>\n",
       "      <td>-200.280105</td>\n",
       "      <td>253.368042</td>\n",
       "      <td>-145.994983</td>\n",
       "      <td>0.418266</td>\n",
       "    </tr>\n",
       "    <tr>\n",
       "      <th>98</th>\n",
       "      <td>0.301932</td>\n",
       "      <td>895.755158</td>\n",
       "      <td>1.677372</td>\n",
       "      <td>862.574290</td>\n",
       "      <td>0.686040</td>\n",
       "      <td>-11.015116</td>\n",
       "      <td>135.085679</td>\n",
       "      <td>135.534031</td>\n",
       "      <td>-94.661682</td>\n",
       "      <td>0.234644</td>\n",
       "      <td>-200.724847</td>\n",
       "      <td>253.943684</td>\n",
       "      <td>-146.059867</td>\n",
       "      <td>0.418872</td>\n",
       "    </tr>\n",
       "  </tbody>\n",
       "</table>\n",
       "<p>99 rows × 14 columns</p>\n",
       "</div>"
      ],
      "text/plain": [
       "    r4[meter]   h4[kj/kg]   P4[bar]       T4[k]  rho4[kg/m^3]  C_theta4[m/s]  \\\n",
       "0    0.170032  894.729706  1.670447  861.654424      0.684749     -77.599669   \n",
       "1    0.171632  894.744468  1.670522  861.664441      0.684764     -76.177925   \n",
       "2    0.173232  894.759071  1.670598  861.674457      0.684780     -74.782429   \n",
       "3    0.174832  894.773520  1.670748  861.694491      0.684796     -73.412461   \n",
       "4    0.176332  894.787054  1.670824  861.704508      0.684811     -72.150682   \n",
       "..        ...         ...       ...         ...           ...            ...   \n",
       "94   0.296732  895.721684  1.677145  862.544240      0.685989     -12.522971   \n",
       "95   0.298032  895.730138  1.677221  862.554257      0.686002     -12.141072   \n",
       "96   0.299332  895.738534  1.677221  862.554257      0.686015     -11.762492   \n",
       "97   0.300632  895.746874  1.677296  862.564274      0.686028     -11.387188   \n",
       "98   0.301932  895.755158  1.677372  862.574290      0.686040     -11.015116   \n",
       "\n",
       "      Cm4[m/s]     C4[m/s]  alpha4[degree]        M4  W_theta4[m/s]  \\\n",
       "0   119.994458  142.899890     -122.890497  0.247520    -184.434186   \n",
       "1   120.779873  142.796547     -122.240329  0.247339    -184.017752   \n",
       "2   121.528742  142.694242     -121.605967  0.247161    -183.627565   \n",
       "3   122.243035  142.592948     -120.986717  0.246983    -183.262906   \n",
       "4   122.881899  142.498007     -120.419525  0.246817    -182.943605   \n",
       "..         ...         ...             ...       ...            ...   \n",
       "94  135.202059  135.780785      -95.291872  0.235075    -198.965445   \n",
       "95  135.174362  135.718510      -95.132413  0.234966    -199.400361   \n",
       "96  135.145720  135.656632      -94.974239  0.234858    -199.838595   \n",
       "97  135.116152  135.595142      -94.817334  0.234751    -200.280105   \n",
       "98  135.085679  135.534031      -94.661682  0.234644    -200.724847   \n",
       "\n",
       "       W4[m/s]  Beta4[degree]      M_w4  \n",
       "0   209.759742    -146.951628  0.381124  \n",
       "1   209.986973    -146.721146  0.381262  \n",
       "2   210.222397    -146.502537  0.381410  \n",
       "3   210.016808    -146.295268  0.381564  \n",
       "4   210.289725    -146.111027  0.381718  \n",
       "..         ...            ...       ...  \n",
       "94  251.650438    -145.802899  0.416469  \n",
       "95  252.221404    -145.866486  0.417063  \n",
       "96  252.793943    -145.930518  0.417663  \n",
       "97  253.368042    -145.994983  0.418266  \n",
       "98  253.943684    -146.059867  0.418872  \n",
       "\n",
       "[99 rows x 14 columns]"
      ]
     },
     "execution_count": 124,
     "metadata": {},
     "output_type": "execute_result"
    }
   ],
   "source": [
    "pd.DataFrame(dic5)"
   ]
  },
  {
   "cell_type": "markdown",
   "id": "a95ba32a-eec1-44db-b99f-feecfaee8289",
   "metadata": {},
   "source": [
    "### Constant Nozzle Angle Vortex"
   ]
  },
  {
   "cell_type": "markdown",
   "id": "ee818508-221b-40e6-9a8f-51d6b80b475a",
   "metadata": {},
   "source": [
    "Unfortunately We Can not use this vortex distribution for section 4, because it needs tons of itterations!!! "
   ]
  },
  {
   "cell_type": "markdown",
   "id": "5e19a273-cb98-4484-9298-63a05642ebfd",
   "metadata": {},
   "source": [
    "# Reaction"
   ]
  },
  {
   "cell_type": "code",
   "execution_count": 125,
   "id": "12f68959-eab7-4641-934a-93e7efe819ee",
   "metadata": {},
   "outputs": [],
   "source": [
    "R_FV = (h2_FV-h4_FV)/(h1_c-h4_FV)\n",
    "R_EV = (h2_EV-h4_EV)/(h1_c-h4_EV)"
   ]
  },
  {
   "cell_type": "code",
   "execution_count": 126,
   "id": "7751909f-b8fa-4cf1-b00d-011d6b0aa430",
   "metadata": {},
   "outputs": [],
   "source": [
    "dic6 = {\n",
    "    'R_FV' : R_FV,\n",
    "    'R_EV' : R_EV\n",
    "}"
   ]
  },
  {
   "cell_type": "code",
   "execution_count": 127,
   "id": "a1a3f04b-6176-426b-b981-b4248f874f44",
   "metadata": {},
   "outputs": [
    {
     "data": {
      "text/html": [
       "<div>\n",
       "<style scoped>\n",
       "    .dataframe tbody tr th:only-of-type {\n",
       "        vertical-align: middle;\n",
       "    }\n",
       "\n",
       "    .dataframe tbody tr th {\n",
       "        vertical-align: top;\n",
       "    }\n",
       "\n",
       "    .dataframe thead th {\n",
       "        text-align: right;\n",
       "    }\n",
       "</style>\n",
       "<table border=\"1\" class=\"dataframe\">\n",
       "  <thead>\n",
       "    <tr style=\"text-align: right;\">\n",
       "      <th></th>\n",
       "      <th>R_FV</th>\n",
       "      <th>R_EV</th>\n",
       "    </tr>\n",
       "  </thead>\n",
       "  <tbody>\n",
       "    <tr>\n",
       "      <th>0</th>\n",
       "      <td>0.245186</td>\n",
       "      <td>0.257242</td>\n",
       "    </tr>\n",
       "    <tr>\n",
       "      <th>1</th>\n",
       "      <td>0.251416</td>\n",
       "      <td>0.262200</td>\n",
       "    </tr>\n",
       "    <tr>\n",
       "      <th>2</th>\n",
       "      <td>0.257659</td>\n",
       "      <td>0.267153</td>\n",
       "    </tr>\n",
       "    <tr>\n",
       "      <th>3</th>\n",
       "      <td>0.261886</td>\n",
       "      <td>0.272099</td>\n",
       "    </tr>\n",
       "    <tr>\n",
       "      <th>4</th>\n",
       "      <td>0.267789</td>\n",
       "      <td>0.277056</td>\n",
       "    </tr>\n",
       "    <tr>\n",
       "      <th>...</th>\n",
       "      <td>...</td>\n",
       "      <td>...</td>\n",
       "    </tr>\n",
       "    <tr>\n",
       "      <th>94</th>\n",
       "      <td>0.687337</td>\n",
       "      <td>0.703357</td>\n",
       "    </tr>\n",
       "    <tr>\n",
       "      <th>95</th>\n",
       "      <td>0.691720</td>\n",
       "      <td>0.708418</td>\n",
       "    </tr>\n",
       "    <tr>\n",
       "      <th>96</th>\n",
       "      <td>0.696088</td>\n",
       "      <td>0.713459</td>\n",
       "    </tr>\n",
       "    <tr>\n",
       "      <th>97</th>\n",
       "      <td>0.700443</td>\n",
       "      <td>0.718479</td>\n",
       "    </tr>\n",
       "    <tr>\n",
       "      <th>98</th>\n",
       "      <td>0.704783</td>\n",
       "      <td>0.723480</td>\n",
       "    </tr>\n",
       "  </tbody>\n",
       "</table>\n",
       "<p>99 rows × 2 columns</p>\n",
       "</div>"
      ],
      "text/plain": [
       "        R_FV      R_EV\n",
       "0   0.245186  0.257242\n",
       "1   0.251416  0.262200\n",
       "2   0.257659  0.267153\n",
       "3   0.261886  0.272099\n",
       "4   0.267789  0.277056\n",
       "..       ...       ...\n",
       "94  0.687337  0.703357\n",
       "95  0.691720  0.708418\n",
       "96  0.696088  0.713459\n",
       "97  0.700443  0.718479\n",
       "98  0.704783  0.723480\n",
       "\n",
       "[99 rows x 2 columns]"
      ]
     },
     "execution_count": 127,
     "metadata": {},
     "output_type": "execute_result"
    }
   ],
   "source": [
    "pd.DataFrame(dic6)"
   ]
  },
  {
   "cell_type": "markdown",
   "id": "63a19d94-a93c-431c-9995-a3e7ca45daa9",
   "metadata": {},
   "source": [
    "So regarding the reaction factor and Mach number from hub to shroud, you can see that both of these methods are appropriate! "
   ]
  },
  {
   "cell_type": "markdown",
   "id": "f2440d93-114a-4da9-b6e2-0cc36f830c00",
   "metadata": {},
   "source": [
    "# Efficiency"
   ]
  },
  {
   "cell_type": "markdown",
   "id": "1295a331-f9e8-41e8-8a02-a0d79733ea56",
   "metadata": {},
   "source": [
    "From now on We choose Free Vortex distribution, and We assume that alpha1_prime = alpha1, Beta3_prime = Beta3:"
   ]
  },
  {
   "cell_type": "markdown",
   "id": "002fc053-1051-4d3c-b436-8be38d1d211a",
   "metadata": {},
   "source": [
    "## Profile Loss"
   ]
  },
  {
   "cell_type": "markdown",
   "id": "c2b39318-5e8f-4df7-b212-2f51d426f93c",
   "metadata": {},
   "source": [
    "### Stator"
   ]
  },
  {
   "cell_type": "code",
   "execution_count": 128,
   "id": "768f083c-0fa9-4aed-a767-3e18fb9af6fd",
   "metadata": {},
   "outputs": [],
   "source": [
    "s_stator = s_s                      #meter\n",
    "c_stator = c                        #meter\n",
    "s_c_stator = s_s/c     \n",
    "NOB_stator = NOB_s    \n",
    "alpha1_prime = alpha1_prime_c       #degree \n",
    "alpha2_prime = 90-56.74             #degree\n",
    "stagger_stator = stagger            #degree  \n",
    "t_max_over_c_stator = 0.15\n",
    "s_Rc_stator = 0.2"
   ]
  },
  {
   "cell_type": "code",
   "execution_count": 129,
   "id": "f9082485-c284-4b31-b77d-72cbfdef6004",
   "metadata": {},
   "outputs": [],
   "source": [
    "Beta_1_prime_s = alpha1_prime\n",
    "Beta1_s = alpha1_c\n",
    "Beta2_s = alpha2_c\n",
    "M_w1_s = C1_c/((gama1*R*1000*T1)**0.5)\n",
    "M_w2_s = M2_c\n",
    "rho2_stator = rho2_c                                                             #kg/m^3\n",
    "Mu2 = (571.85-500)/(600-500)*(3.846-3.563)*10**(-5)+3.563*10**(-5)               #kg/m-sec for air at 571.85 centigrade\n",
    "correctinon_fuel = 1.25\n",
    "Mu2 *= correctinon_fuel                                                          #kg/m-sec\n",
    "chord = c_stator\n",
    "Re_c_s = (rho2_stator*C2_c*chord)/Mu2\n",
    "e = 0\n",
    "Re_e_s = (rho2_stator*C2_c*e)/Mu2\n",
    "t_max_over_c_s = t_max_over_c_stator\n",
    "O_s = 0.03\n",
    "s_Rc_s = s_Rc_stator"
   ]
  },
  {
   "cell_type": "code",
   "execution_count": 130,
   "id": "45fd58c5-a10a-4acb-b2d6-24a20a8ddb84",
   "metadata": {},
   "outputs": [],
   "source": [
    "Y_profile_stator = Y_p(Beta_1_prime_s, Beta1_s, Beta2_s, t_max_over_c_s, O_s, s_s, chord, M_w1_s, M_w2_s, Re_c_s, Re_e_s, s_Rc_s)"
   ]
  },
  {
   "cell_type": "code",
   "execution_count": 131,
   "id": "d0d4cd8f-d04d-445f-a80c-dc1df7f17ae2",
   "metadata": {},
   "outputs": [],
   "source": [
    "Y_p_stator = Y_profile_stator['Y_p']"
   ]
  },
  {
   "cell_type": "markdown",
   "id": "d02d53a7-6163-4234-89fa-ce1916a462fc",
   "metadata": {},
   "source": [
    "### Rotor"
   ]
  },
  {
   "cell_type": "code",
   "execution_count": 132,
   "id": "75232781-9c68-4094-a816-2f49d14c2e7c",
   "metadata": {},
   "outputs": [],
   "source": [
    "s_rotor = s_r                 #meter  \n",
    "c_rotor = c                   #meter   \n",
    "s_c_rotor = s_r/c\n",
    "NOB_rotor = NOB_r\n",
    "Beta1_prime  = Beta1_prime_c      #degree      \n",
    "Beta2_prime  = 90-56.74       #degree    \n",
    "stagger_rotor  = 13.0         #degree \n",
    "t_max_over_c_rotor = 0.15\n",
    "s_Rc_rotor = 0.2"
   ]
  },
  {
   "cell_type": "code",
   "execution_count": 133,
   "id": "dbf6d3c2-0041-4537-bcdd-2556077cb657",
   "metadata": {},
   "outputs": [],
   "source": [
    "Beta_1_prime_r = Beta1_prime\n",
    "Beta1_r = Beta1_c\n",
    "Beta2_r = Beta2_c\n",
    "M_w1_r = M_w2_c\n",
    "M_w2_r = M_w4_c\n",
    "rho2_rotor = rho4_c                                                              #kg/m^3\n",
    "Mu2 = (571.85-500)/(600-500)*(3.846-3.563)*10**(-5)+3.563*10**(-5)               #kg/m-sec for air at 571.85 centigrade\n",
    "correctinon_fuel = 1.25\n",
    "Mu2 *= correctinon_fuel                                                          #kg/m-sec\n",
    "chord = c_rotor\n",
    "Re_c_r = (rho2_rotor*W4_c*chord)/Mu2\n",
    "e = 0\n",
    "Re_e_r = (rho2_rotor*W4_c*e)/Mu2\n",
    "t_max_over_c_r = t_max_over_c_rotor\n",
    "O_r = 0.03\n",
    "s_r = s_rotor\n",
    "s_Rc_r = s_Rc_rotor"
   ]
  },
  {
   "cell_type": "code",
   "execution_count": 134,
   "id": "2a2f1cb0-1e0f-4362-8f42-74ad96c44aad",
   "metadata": {},
   "outputs": [],
   "source": [
    "Y_profile_rotor = Y_p(Beta_1_prime_r, Beta1_r, Beta2_r, t_max_over_c_r, O_r, s_r, chord, M_w1_r, M_w2_r, Re_c_r, Re_e_r, s_Rc_r)"
   ]
  },
  {
   "cell_type": "code",
   "execution_count": 135,
   "id": "4f54b6c6-7aef-474b-95de-47b7168c5c94",
   "metadata": {},
   "outputs": [],
   "source": [
    "Y_p_rotor = Y_profile_rotor['Y_p']"
   ]
  },
  {
   "cell_type": "markdown",
   "id": "7a440281-37a1-40af-bf99-1004baec1fb4",
   "metadata": {},
   "source": [
    "## Secondary Loss"
   ]
  },
  {
   "cell_type": "markdown",
   "id": "d92a7ac1-22ef-43c9-8bc5-7f74cc6291c9",
   "metadata": {},
   "source": [
    "### Stator"
   ]
  },
  {
   "cell_type": "code",
   "execution_count": 136,
   "id": "3da84c7a-ba0a-49fa-945c-cff192543fa3",
   "metadata": {},
   "outputs": [],
   "source": [
    "K_Re_stator, K_p_stator = Y_profile_stator['K_Re'], Y_profile_stator['K_p']\n",
    "chord = c\n",
    "bx_stator = b_x\n",
    "h_stator = h1\n",
    "bx_h_stator = bx_stator/h_stator\n",
    "h_c_stator = h_stator/chord"
   ]
  },
  {
   "cell_type": "code",
   "execution_count": 137,
   "id": "f74bba46-b3ac-4710-b27c-156f694d8bae",
   "metadata": {},
   "outputs": [],
   "source": [
    "Y_s_stator = Y_s(K_Re_stator, K_p_stator, bx_h_stator, Beta_1_prime_s, Beta1_s, Beta2_s, s_c_stator, h_c_stator)"
   ]
  },
  {
   "cell_type": "markdown",
   "id": "780a278a-bdef-429f-acaa-21e2e38e0cc8",
   "metadata": {},
   "source": [
    "### Rotor"
   ]
  },
  {
   "cell_type": "code",
   "execution_count": 138,
   "id": "51cbcb48-16b4-4a73-8663-f134fcc15302",
   "metadata": {},
   "outputs": [],
   "source": [
    "K_Re_rotor, K_p_rotor = Y_profile_rotor['K_Re'], Y_profile_rotor['K_p']\n",
    "chord = c\n",
    "bx_rotor = b_x\n",
    "h_rotor = h_blade3_FV\n",
    "bx_h_rotor = bx_rotor/h_rotor\n",
    "h_c_rotor = h_rotor/chord"
   ]
  },
  {
   "cell_type": "code",
   "execution_count": 139,
   "id": "8771f66c-8f94-4a7f-82cf-143e2a96d8f8",
   "metadata": {},
   "outputs": [],
   "source": [
    "Y_s_rotor = Y_s(K_Re_rotor, K_p_rotor, bx_h_rotor, Beta_1_prime_r, Beta1_r, Beta2_r, s_c_rotor, h_c_rotor)"
   ]
  },
  {
   "cell_type": "markdown",
   "id": "38475be1-3100-42e4-aa8a-9a1888b3016c",
   "metadata": {
    "tags": []
   },
   "source": [
    "## Trailing Edge Loss"
   ]
  },
  {
   "cell_type": "markdown",
   "id": "fc40a85c-15e2-4102-9a82-513836ab0d75",
   "metadata": {},
   "source": [
    "### Stator"
   ]
  },
  {
   "cell_type": "code",
   "execution_count": 140,
   "id": "3f76842f-465b-4bf3-a31d-7ecfc376ea75",
   "metadata": {},
   "outputs": [],
   "source": [
    "t2_stator = 0.006    #meter"
   ]
  },
  {
   "cell_type": "code",
   "execution_count": 141,
   "id": "c385e124-4bbc-4aa0-9b60-7aa1018d3042",
   "metadata": {},
   "outputs": [],
   "source": [
    "Y_TE_stator = Y_TE(O_s, s_s, t2_stator, rho2_stator, C2_c)"
   ]
  },
  {
   "cell_type": "markdown",
   "id": "c92d189a-23ce-4760-bb39-408d026a7591",
   "metadata": {},
   "source": [
    "### Rotor"
   ]
  },
  {
   "cell_type": "code",
   "execution_count": 142,
   "id": "91739e2c-ff91-4a6b-852d-001b8eeab405",
   "metadata": {},
   "outputs": [],
   "source": [
    "t2_rotor = 0.006    #meter"
   ]
  },
  {
   "cell_type": "code",
   "execution_count": 143,
   "id": "4e6630a8-ea75-43ef-bde5-52a9471c249d",
   "metadata": {},
   "outputs": [],
   "source": [
    "Y_TE_rotor = Y_TE(O_r, s_r, t2_rotor, rho2_rotor, W4_c)"
   ]
  },
  {
   "cell_type": "markdown",
   "id": "747f409f-171e-4a55-ba47-e1106b731e87",
   "metadata": {},
   "source": [
    "## Sock Loss"
   ]
  },
  {
   "cell_type": "markdown",
   "id": "9d8b17c4-11d9-4920-8ee1-1768d1a7eb6e",
   "metadata": {},
   "source": [
    "### Stator"
   ]
  },
  {
   "cell_type": "code",
   "execution_count": 144,
   "id": "a265a90d-e44e-4c88-82d7-8556b6a3e56b",
   "metadata": {},
   "outputs": [],
   "source": [
    "Y_sh_stator = Y_sh(M_w1_s, M_w2_s)"
   ]
  },
  {
   "cell_type": "markdown",
   "id": "5ddcbbeb-2376-45b9-9f93-1e91fc467edc",
   "metadata": {},
   "source": [
    "### Rotor"
   ]
  },
  {
   "cell_type": "code",
   "execution_count": 145,
   "id": "b18b6044-aa32-4e03-b87a-be16d79b215e",
   "metadata": {},
   "outputs": [],
   "source": [
    "Y_sh_rotor = Y_sh(M_w1_r, M_w2_r)"
   ]
  },
  {
   "cell_type": "markdown",
   "id": "7156e350-f536-45e7-a539-c6c7a2c3da1c",
   "metadata": {},
   "source": [
    "## Supersonic Expansion Loss"
   ]
  },
  {
   "cell_type": "markdown",
   "id": "7f38d434-5330-4f25-b89f-ddadf66f6183",
   "metadata": {
    "tags": []
   },
   "source": [
    "### Stator"
   ]
  },
  {
   "cell_type": "code",
   "execution_count": 146,
   "id": "35841e47-0e61-43a7-87a4-a182e6a9f9a5",
   "metadata": {},
   "outputs": [],
   "source": [
    "Y_EX_stator = Y_EX(M_w2_s)"
   ]
  },
  {
   "cell_type": "markdown",
   "id": "00551780-052e-4bdf-bbec-8d2e58a70711",
   "metadata": {},
   "source": [
    "### Rotor"
   ]
  },
  {
   "cell_type": "code",
   "execution_count": 147,
   "id": "deab679b-e79a-4433-81ce-30ed0bf5539c",
   "metadata": {},
   "outputs": [],
   "source": [
    "Y_EX_rotor = Y_EX(M_w2_r)"
   ]
  },
  {
   "cell_type": "markdown",
   "id": "b1327483-7d36-4525-9166-db0cfd1b731f",
   "metadata": {},
   "source": [
    "## Blade Clearance Loss"
   ]
  },
  {
   "cell_type": "markdown",
   "id": "c3d70ec9-2150-48cf-ada4-c3c8e510128d",
   "metadata": {
    "tags": []
   },
   "source": [
    "### Stator"
   ]
  },
  {
   "cell_type": "code",
   "execution_count": 148,
   "id": "5c610e3f-3412-42f2-b8b5-c6119509727a",
   "metadata": {},
   "outputs": [],
   "source": [
    "delta_stator = 0.004"
   ]
  },
  {
   "cell_type": "code",
   "execution_count": 149,
   "id": "d04db036-bf7c-4edf-b026-65b5e83e1cd8",
   "metadata": {},
   "outputs": [],
   "source": [
    "Y_CL_stator = Y_CL(Beta1_s, Beta2_s, s_c_stator, h_c_stator, c, delta_stator) "
   ]
  },
  {
   "cell_type": "markdown",
   "id": "61d47a56-9f1a-4659-b337-cc19b9ed5cd0",
   "metadata": {},
   "source": [
    "### Rotor"
   ]
  },
  {
   "cell_type": "code",
   "execution_count": 150,
   "id": "1bb5e845-99fb-4612-99c9-8734355e8398",
   "metadata": {},
   "outputs": [],
   "source": [
    "delta_rotor = 0.004"
   ]
  },
  {
   "cell_type": "code",
   "execution_count": 151,
   "id": "e615ec23-6992-431d-b50e-1897917083b9",
   "metadata": {},
   "outputs": [],
   "source": [
    "Y_CL_rotor = Y_CL(Beta1_r, Beta2_r, s_c_rotor, h_c_rotor, c, delta_rotor) "
   ]
  },
  {
   "cell_type": "markdown",
   "id": "1c72699b-1f57-4ef3-9840-5b09c61dae83",
   "metadata": {},
   "source": [
    "## Lashing Wire Loss"
   ]
  },
  {
   "cell_type": "markdown",
   "id": "aa1a9392-67b0-4c29-adf6-d9e44c9fc8c1",
   "metadata": {
    "tags": []
   },
   "source": [
    "### Stator"
   ]
  },
  {
   "cell_type": "code",
   "execution_count": 152,
   "id": "7e565ba7-e16c-4cc5-90cf-70e45ce057c7",
   "metadata": {},
   "outputs": [],
   "source": [
    "N_LW_stator = 1\n",
    "D_LW_stator = 0.01   #meter\n",
    "W2_stator = C2_c\n",
    "Cm2_stator = Cm2_c"
   ]
  },
  {
   "cell_type": "code",
   "execution_count": 153,
   "id": "28804ff5-1f97-4cbb-9889-d651d65b97d8",
   "metadata": {},
   "outputs": [],
   "source": [
    "Y_LW_stator = Y_LW(N_LW_stator, D_LW_stator, Cm2_stator, rho2_stator, h_stator, W2_stator, Mu2)"
   ]
  },
  {
   "cell_type": "markdown",
   "id": "01eb5fba-97c4-43db-bb08-d8ee9d7e1703",
   "metadata": {},
   "source": [
    "### Rotor"
   ]
  },
  {
   "cell_type": "code",
   "execution_count": 154,
   "id": "95498a07-9a7a-4dd8-a8a2-a2e7da2624e9",
   "metadata": {},
   "outputs": [],
   "source": [
    "N_LW_rotor = 1\n",
    "D_LW_rotor = 0.01   #meter\n",
    "W2_rotor = W4_c\n",
    "Cm2_rotor = Cm4_c"
   ]
  },
  {
   "cell_type": "code",
   "execution_count": 155,
   "id": "a8b8bb53-6cd0-44a1-ac3f-20a18053e92b",
   "metadata": {},
   "outputs": [],
   "source": [
    "Y_LW_rotor = Y_LW(N_LW_rotor, D_LW_rotor, Cm2_rotor, rho2_rotor, h_rotor, W2_rotor, Mu2)"
   ]
  },
  {
   "cell_type": "markdown",
   "id": "b1ad0d64-a44d-4beb-90f2-c7c6c2b8cad5",
   "metadata": {},
   "source": [
    "## Table of Aerodynamic Losses"
   ]
  },
  {
   "cell_type": "code",
   "execution_count": 156,
   "id": "d4ababa1-d700-4b71-8009-89f95ee02ec1",
   "metadata": {},
   "outputs": [],
   "source": [
    "Aerodynamic_Losses_stator = {\n",
    "    'Y_p'  : Y_p_stator,\n",
    "    'Y_s'  : Y_s_stator,\n",
    "    'Y_TE' : Y_TE_stator,\n",
    "    'Y_sh' : Y_sh_stator,\n",
    "    'Y_EX' : Y_EX_stator,\n",
    "    'Y_CL' : Y_CL_stator,\n",
    "    'Y_LW' : Y_LW_stator,\n",
    "}"
   ]
  },
  {
   "cell_type": "code",
   "execution_count": 157,
   "id": "e5650efc-6328-48b9-8fdb-eb1c314b34b0",
   "metadata": {},
   "outputs": [],
   "source": [
    "Aerodynamic_Losses_rotor = {\n",
    "    'Y_p'  : Y_p_rotor,\n",
    "    'Y_s'  : Y_s_rotor,\n",
    "    'Y_TE' : Y_TE_rotor,\n",
    "    'Y_sh' : Y_sh_rotor,\n",
    "    'Y_EX' : Y_EX_rotor,\n",
    "    'Y_CL' : Y_CL_rotor,\n",
    "    'Y_LW' : Y_LW_rotor,\n",
    "}"
   ]
  },
  {
   "cell_type": "code",
   "execution_count": 158,
   "id": "552c467a-4f24-4f2e-8515-52746245ff1a",
   "metadata": {},
   "outputs": [],
   "source": [
    "Aerodynamic_Losses = {\n",
    "    'Stator' : Aerodynamic_Losses_stator,\n",
    "    'Rotor'  : Aerodynamic_Losses_rotor,\n",
    "}"
   ]
  },
  {
   "cell_type": "code",
   "execution_count": 159,
   "id": "a49df2ab-1306-4090-af3a-0b1425c396b1",
   "metadata": {},
   "outputs": [],
   "source": [
    "df1 = pd.DataFrame(Aerodynamic_Losses).T"
   ]
  },
  {
   "cell_type": "code",
   "execution_count": 160,
   "id": "583e1697-1084-43e5-a2bb-13a3d8d5180d",
   "metadata": {},
   "outputs": [],
   "source": [
    "df1['Y_total'] = df1['Y_p']+df1['Y_s']+df1['Y_TE']+df1['Y_sh']+df1['Y_EX']+df1['Y_CL']+df1['Y_LW']"
   ]
  },
  {
   "cell_type": "code",
   "execution_count": 161,
   "id": "c52fb00b-dd38-44cf-bf94-7a009af982fe",
   "metadata": {},
   "outputs": [
    {
     "data": {
      "text/html": [
       "<div>\n",
       "<style scoped>\n",
       "    .dataframe tbody tr th:only-of-type {\n",
       "        vertical-align: middle;\n",
       "    }\n",
       "\n",
       "    .dataframe tbody tr th {\n",
       "        vertical-align: top;\n",
       "    }\n",
       "\n",
       "    .dataframe thead th {\n",
       "        text-align: right;\n",
       "    }\n",
       "</style>\n",
       "<table border=\"1\" class=\"dataframe\">\n",
       "  <thead>\n",
       "    <tr style=\"text-align: right;\">\n",
       "      <th></th>\n",
       "      <th>Y_p</th>\n",
       "      <th>Y_s</th>\n",
       "      <th>Y_TE</th>\n",
       "      <th>Y_sh</th>\n",
       "      <th>Y_EX</th>\n",
       "      <th>Y_CL</th>\n",
       "      <th>Y_LW</th>\n",
       "      <th>Y_total</th>\n",
       "    </tr>\n",
       "  </thead>\n",
       "  <tbody>\n",
       "    <tr>\n",
       "      <th>Stator</th>\n",
       "      <td>0.012961</td>\n",
       "      <td>0.030467</td>\n",
       "      <td>0.0625</td>\n",
       "      <td>0.0</td>\n",
       "      <td>0.0</td>\n",
       "      <td>0.105491</td>\n",
       "      <td>0.036158</td>\n",
       "      <td>0.247577</td>\n",
       "    </tr>\n",
       "    <tr>\n",
       "      <th>Rotor</th>\n",
       "      <td>0.014693</td>\n",
       "      <td>0.033791</td>\n",
       "      <td>0.0625</td>\n",
       "      <td>0.0</td>\n",
       "      <td>0.0</td>\n",
       "      <td>0.113156</td>\n",
       "      <td>0.029271</td>\n",
       "      <td>0.253411</td>\n",
       "    </tr>\n",
       "  </tbody>\n",
       "</table>\n",
       "</div>"
      ],
      "text/plain": [
       "             Y_p       Y_s    Y_TE  Y_sh  Y_EX      Y_CL      Y_LW   Y_total\n",
       "Stator  0.012961  0.030467  0.0625   0.0   0.0  0.105491  0.036158  0.247577\n",
       "Rotor   0.014693  0.033791  0.0625   0.0   0.0  0.113156  0.029271  0.253411"
      ]
     },
     "execution_count": 161,
     "metadata": {},
     "output_type": "execute_result"
    }
   ],
   "source": [
    "df1"
   ]
  },
  {
   "cell_type": "markdown",
   "id": "151d737f-f09b-44d5-a227-b421e75075fc",
   "metadata": {},
   "source": [
    "## Etta_tt"
   ]
  },
  {
   "cell_type": "code",
   "execution_count": 162,
   "id": "25b31a46-7969-4b31-9eaf-6587bfb7f2b2",
   "metadata": {},
   "outputs": [],
   "source": [
    "Y_nozzle = df1['Y_total'][0]\n",
    "Y_rotor  = df1['Y_total'][1]"
   ]
  },
  {
   "cell_type": "code",
   "execution_count": 163,
   "id": "abfa89cd-315e-40e5-ba56-51904f06ddb6",
   "metadata": {},
   "outputs": [],
   "source": [
    "psi_nozzle = Y_nozzle/(1+0.5*gama2*M_w2_s**2)\n",
    "psi_rotor = Y_rotor/(1+0.5*gama4*M_w2_r**2)"
   ]
  },
  {
   "cell_type": "code",
   "execution_count": 164,
   "id": "25dccd83-816b-4572-b684-bb64871d7175",
   "metadata": {},
   "outputs": [
    {
     "data": {
      "text/plain": [
       "0.2243989935739521"
      ]
     },
     "execution_count": 164,
     "metadata": {},
     "output_type": "execute_result"
    }
   ],
   "source": [
    "psi_nozzle"
   ]
  },
  {
   "cell_type": "code",
   "execution_count": 165,
   "id": "849f5faf-f5d2-49b4-b7a5-e15eb17a6cee",
   "metadata": {},
   "outputs": [
    {
     "data": {
      "text/plain": [
       "0.22932178796501307"
      ]
     },
     "execution_count": 165,
     "metadata": {},
     "output_type": "execute_result"
    }
   ],
   "source": [
    "psi_rotor"
   ]
  },
  {
   "cell_type": "code",
   "execution_count": 166,
   "id": "e54a0976-9843-42b6-a425-7e45157ab9d6",
   "metadata": {},
   "outputs": [],
   "source": [
    "T03 = T04\n",
    "T3 = T4_c\n",
    "T2 = T2_c\n",
    "h03 = h04_c\n",
    "etta_tt = (1+(T03/T3)*(psi_nozzle*(C2_c**2)*(T3/T2)+W4_c*psi_rotor)/(2000*(h01-h03)))**(-1)"
   ]
  },
  {
   "cell_type": "code",
   "execution_count": 167,
   "id": "c85eb9a0-8fc8-4168-a2a5-7cfa925d7a7d",
   "metadata": {},
   "outputs": [
    {
     "data": {
      "text/plain": [
       "0.8486155863375537"
      ]
     },
     "execution_count": 167,
     "metadata": {},
     "output_type": "execute_result"
    }
   ],
   "source": [
    "etta_tt"
   ]
  },
  {
   "cell_type": "markdown",
   "id": "6226505a-9df5-4c42-8553-846441af2fb3",
   "metadata": {},
   "source": [
    "etta_target was 0.92 and at the end we achived to 0.84 efficiency"
   ]
  },
  {
   "cell_type": "markdown",
   "id": "374e8fea-1caa-43de-a9c4-99839fa5c1e8",
   "metadata": {},
   "source": [
    "# Blade shape"
   ]
  },
  {
   "cell_type": "markdown",
   "id": "de8e8ff6-5045-42db-b6b1-16db899a92a3",
   "metadata": {},
   "source": [
    "## Free Vortex"
   ]
  },
  {
   "cell_type": "code",
   "execution_count": 170,
   "id": "08ce7608-f14f-41a9-8fb9-13f17579a61c",
   "metadata": {},
   "outputs": [
    {
     "data": {
      "image/png": "[encoded data removed]",
      "text/plain": [
       "<Figure size 720x720 with 1 Axes>"
      ]
     },
     "metadata": {
      "needs_background": "light"
     },
     "output_type": "display_data"
    }
   ],
   "source": [
    "fig = plt.figure()\n",
    "ax = fig.add_subplot(111, aspect='equal')\n",
    "ax.set_xlim(0, 0.13)\n",
    "ax.set_ylim(0.16, 0.31)\n",
    "\n",
    "x = [0, 0, b_x, b_x, 0]\n",
    "y = [r1[0], r1[-1], r2_FV[-1], r2_FV[0], r1[0]]\n",
    "ax.add_patch(patches.Polygon(xy=list(zip(x,y)), fill=True, color='black'))\n",
    "\n",
    "x = [1.25*b_x, 1.25*b_x, 2.25*b_x, 2.25*b_x, 1.25*b_x]\n",
    "y = [r3_FV[0], r3_FV[-1], r4_FV[-1], r4_FV[0], r3_FV[0]]\n",
    "ax.add_patch(patches.Polygon(xy=list(zip(x,y)), fill=True, color='black'))\n",
    "\n",
    "plt.xlabel('X[meter]')\n",
    "plt.ylabel('Radius[meter]')\n",
    "plt.title('Free Vortex')\n",
    "\n",
    "plt.rcParams[\"figure.figsize\"] = (10, 10)"
   ]
  },
  {
   "cell_type": "code",
   "execution_count": null,
   "id": "0dd85e6e-1d5a-4fc9-b90d-9b2346372936",
   "metadata": {},
   "outputs": [],
   "source": []
  }
 ],
 "metadata": {
  "kernelspec": {
   "display_name": "Python 3 (ipykernel)",
   "language": "python",
   "name": "python3"
  },
  "language_info": {
   "codemirror_mode": {
    "name": "ipython",
    "version": 3
   },
   "file_extension": ".py",
   "mimetype": "text/x-python",
   "name": "python",
   "nbconvert_exporter": "python",
   "pygments_lexer": "ipython3",
   "version": "3.8.13"
  }
 },
 "nbformat": 4,
 "nbformat_minor": 5
}
